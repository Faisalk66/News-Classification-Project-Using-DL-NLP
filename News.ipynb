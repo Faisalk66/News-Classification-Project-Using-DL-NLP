{
  "nbformat": 4,
  "nbformat_minor": 0,
  "metadata": {
    "colab": {
      "provenance": []
    },
    "kernelspec": {
      "name": "python3",
      "display_name": "Python 3"
    },
    "language_info": {
      "name": "python"
    }
  },
  "cells": [
    {
      "cell_type": "markdown",
      "source": [
        "**Fake vs True News Classification Project**\n",
        "\n",
        "*By Mohammed Faisal Khan*"
      ],
      "metadata": {
        "id": "YB4G8rLMkVK2"
      }
    },
    {
      "cell_type": "markdown",
      "source": [
        "\n",
        "\n",
        "**Why should you care about whether or not your news is real or fake?**\n",
        "\n",
        "- The spread of fake news has become easier in the digital age, as social media platforms and other online channels allow anyone to create and share content with the world. The problem with fake news is that it can be very convincing, and people may believe it to be true without questioning its authenticity. This can lead to a range of negative consequences, That is why a sophisticated method is required to identify fake news\n",
        "\n"
      ],
      "metadata": {
        "id": "xXmASEMAsr_D"
      }
    },
    {
      "cell_type": "markdown",
      "source": [
        "**Problem Statement**\n",
        "\n",
        "\n",
        "*   Given - A Data Set of Fake and Real news.\n",
        "*   Objective - To develop a solution which detects if a given news is Fake or Real.\n",
        "*   Methodology used - We try to pose the problem as a text classification problem and build a deep learning model for achieving the objective.\n"
      ],
      "metadata": {
        "id": "b7w9xMNfnvdI"
      }
    },
    {
      "cell_type": "markdown",
      "source": [
        "**Goal**\n",
        "- The Goal of This notebook is to use Machine Learning, Deep Learning and NLP to Detect Fake News"
      ],
      "metadata": {
        "id": "tzPTLJMws8qF"
      }
    },
    {
      "cell_type": "markdown",
      "source": [
        "# Step-1:- Importing Libraries"
      ],
      "metadata": {
        "id": "LvODFE1XdXsS"
      }
    },
    {
      "cell_type": "code",
      "execution_count": 1,
      "metadata": {
        "colab": {
          "base_uri": "https://localhost:8080/"
        },
        "id": "xkleybHrYyPz",
        "outputId": "898dfeba-a4c5-4df4-c75c-6349c1c6f7b5"
      },
      "outputs": [
        {
          "output_type": "stream",
          "name": "stderr",
          "text": [
            "[nltk_data] Downloading package punkt to /root/nltk_data...\n",
            "[nltk_data]   Unzipping tokenizers/punkt.zip.\n",
            "[nltk_data] Downloading package stopwords to /root/nltk_data...\n",
            "[nltk_data]   Unzipping corpora/stopwords.zip.\n",
            "[nltk_data] Downloading package wordnet to /root/nltk_data...\n"
          ]
        }
      ],
      "source": [
        "import numpy as np\n",
        "import pandas as pd\n",
        "import seaborn as sns\n",
        "import matplotlib.pyplot as plt\n",
        "import nltk\n",
        "from nltk.corpus import stopwords\n",
        "from nltk.stem import PorterStemmer,WordNetLemmatizer\n",
        "from nltk.tokenize import word_tokenize\n",
        "nltk.download('punkt')\n",
        "nltk.download('stopwords')\n",
        "nltk.download('wordnet')\n",
        "import tensorflow as tf\n",
        "from tensorflow.keras.models import Sequential\n",
        "from tensorflow.keras.layers import Dense, Dropout, Embedding, LSTM, SimpleRNN\n",
        "from tensorflow.keras.preprocessing.text import Tokenizer\n",
        "from tensorflow.keras.preprocessing import sequence\n",
        "import warnings\n",
        "warnings.filterwarnings('ignore')"
      ]
    },
    {
      "cell_type": "markdown",
      "source": [
        "# Step-2 : Loading and Cleaning Data"
      ],
      "metadata": {
        "id": "qxvPe91wd33j"
      }
    },
    {
      "cell_type": "code",
      "source": [
        "# 2.1 Import Data\n",
        "df = pd.read_csv('news.csv',error_bad_lines=False,engine='python')\n",
        "df"
      ],
      "metadata": {
        "colab": {
          "base_uri": "https://localhost:8080/",
          "height": 423
        },
        "id": "widSE_T-bOTu",
        "outputId": "a1ec45e0-961f-4439-c3ef-48008dd23f73"
      },
      "execution_count": 2,
      "outputs": [
        {
          "output_type": "execute_result",
          "data": {
            "text/plain": [
              "                                                   title  \\\n",
              "0       Donald Trump Sends Out Embarrassing New Year’...   \n",
              "1       Drunk Bragging Trump Staffer Started Russian ...   \n",
              "2       Sheriff David Clarke Becomes An Internet Joke...   \n",
              "3       Trump Is So Obsessed He Even Has Obama’s Name...   \n",
              "4       Pope Francis Just Called Out Donald Trump Dur...   \n",
              "...                                                  ...   \n",
              "44893  'Fully committed' NATO backs new U.S. approach...   \n",
              "44894  LexisNexis withdrew two products from Chinese ...   \n",
              "44895  Minsk cultural hub becomes haven from authorities   \n",
              "44896  Vatican upbeat on possibility of Pope Francis ...   \n",
              "44897  Indonesia to buy $1.14 billion worth of Russia...   \n",
              "\n",
              "                                                    text label  \n",
              "0      Donald Trump just couldn t wish all Americans ...  fake  \n",
              "1      House Intelligence Committee Chairman Devin Nu...  fake  \n",
              "2      On Friday, it was revealed that former Milwauk...  fake  \n",
              "3      On Christmas day, Donald Trump announced that ...  fake  \n",
              "4      Pope Francis used his annual Christmas Day mes...  fake  \n",
              "...                                                  ...   ...  \n",
              "44893  BRUSSELS (Reuters) - NATO allies on Tuesday we...  true  \n",
              "44894  LONDON (Reuters) - LexisNexis, a provider of l...  true  \n",
              "44895  MINSK (Reuters) - In the shadow of disused Sov...  true  \n",
              "44896  MOSCOW (Reuters) - Vatican Secretary of State ...  true  \n",
              "44897  JAKARTA (Reuters) - Indonesia will buy 11 Sukh...  true  \n",
              "\n",
              "[44898 rows x 3 columns]"
            ],
            "text/html": [
              "\n",
              "  <div id=\"df-e7dd8479-e0ea-4bd5-afd7-886b66a2132a\">\n",
              "    <div class=\"colab-df-container\">\n",
              "      <div>\n",
              "<style scoped>\n",
              "    .dataframe tbody tr th:only-of-type {\n",
              "        vertical-align: middle;\n",
              "    }\n",
              "\n",
              "    .dataframe tbody tr th {\n",
              "        vertical-align: top;\n",
              "    }\n",
              "\n",
              "    .dataframe thead th {\n",
              "        text-align: right;\n",
              "    }\n",
              "</style>\n",
              "<table border=\"1\" class=\"dataframe\">\n",
              "  <thead>\n",
              "    <tr style=\"text-align: right;\">\n",
              "      <th></th>\n",
              "      <th>title</th>\n",
              "      <th>text</th>\n",
              "      <th>label</th>\n",
              "    </tr>\n",
              "  </thead>\n",
              "  <tbody>\n",
              "    <tr>\n",
              "      <th>0</th>\n",
              "      <td>Donald Trump Sends Out Embarrassing New Year’...</td>\n",
              "      <td>Donald Trump just couldn t wish all Americans ...</td>\n",
              "      <td>fake</td>\n",
              "    </tr>\n",
              "    <tr>\n",
              "      <th>1</th>\n",
              "      <td>Drunk Bragging Trump Staffer Started Russian ...</td>\n",
              "      <td>House Intelligence Committee Chairman Devin Nu...</td>\n",
              "      <td>fake</td>\n",
              "    </tr>\n",
              "    <tr>\n",
              "      <th>2</th>\n",
              "      <td>Sheriff David Clarke Becomes An Internet Joke...</td>\n",
              "      <td>On Friday, it was revealed that former Milwauk...</td>\n",
              "      <td>fake</td>\n",
              "    </tr>\n",
              "    <tr>\n",
              "      <th>3</th>\n",
              "      <td>Trump Is So Obsessed He Even Has Obama’s Name...</td>\n",
              "      <td>On Christmas day, Donald Trump announced that ...</td>\n",
              "      <td>fake</td>\n",
              "    </tr>\n",
              "    <tr>\n",
              "      <th>4</th>\n",
              "      <td>Pope Francis Just Called Out Donald Trump Dur...</td>\n",
              "      <td>Pope Francis used his annual Christmas Day mes...</td>\n",
              "      <td>fake</td>\n",
              "    </tr>\n",
              "    <tr>\n",
              "      <th>...</th>\n",
              "      <td>...</td>\n",
              "      <td>...</td>\n",
              "      <td>...</td>\n",
              "    </tr>\n",
              "    <tr>\n",
              "      <th>44893</th>\n",
              "      <td>'Fully committed' NATO backs new U.S. approach...</td>\n",
              "      <td>BRUSSELS (Reuters) - NATO allies on Tuesday we...</td>\n",
              "      <td>true</td>\n",
              "    </tr>\n",
              "    <tr>\n",
              "      <th>44894</th>\n",
              "      <td>LexisNexis withdrew two products from Chinese ...</td>\n",
              "      <td>LONDON (Reuters) - LexisNexis, a provider of l...</td>\n",
              "      <td>true</td>\n",
              "    </tr>\n",
              "    <tr>\n",
              "      <th>44895</th>\n",
              "      <td>Minsk cultural hub becomes haven from authorities</td>\n",
              "      <td>MINSK (Reuters) - In the shadow of disused Sov...</td>\n",
              "      <td>true</td>\n",
              "    </tr>\n",
              "    <tr>\n",
              "      <th>44896</th>\n",
              "      <td>Vatican upbeat on possibility of Pope Francis ...</td>\n",
              "      <td>MOSCOW (Reuters) - Vatican Secretary of State ...</td>\n",
              "      <td>true</td>\n",
              "    </tr>\n",
              "    <tr>\n",
              "      <th>44897</th>\n",
              "      <td>Indonesia to buy $1.14 billion worth of Russia...</td>\n",
              "      <td>JAKARTA (Reuters) - Indonesia will buy 11 Sukh...</td>\n",
              "      <td>true</td>\n",
              "    </tr>\n",
              "  </tbody>\n",
              "</table>\n",
              "<p>44898 rows × 3 columns</p>\n",
              "</div>\n",
              "      <button class=\"colab-df-convert\" onclick=\"convertToInteractive('df-e7dd8479-e0ea-4bd5-afd7-886b66a2132a')\"\n",
              "              title=\"Convert this dataframe to an interactive table.\"\n",
              "              style=\"display:none;\">\n",
              "        \n",
              "  <svg xmlns=\"http://www.w3.org/2000/svg\" height=\"24px\"viewBox=\"0 0 24 24\"\n",
              "       width=\"24px\">\n",
              "    <path d=\"M0 0h24v24H0V0z\" fill=\"none\"/>\n",
              "    <path d=\"M18.56 5.44l.94 2.06.94-2.06 2.06-.94-2.06-.94-.94-2.06-.94 2.06-2.06.94zm-11 1L8.5 8.5l.94-2.06 2.06-.94-2.06-.94L8.5 2.5l-.94 2.06-2.06.94zm10 10l.94 2.06.94-2.06 2.06-.94-2.06-.94-.94-2.06-.94 2.06-2.06.94z\"/><path d=\"M17.41 7.96l-1.37-1.37c-.4-.4-.92-.59-1.43-.59-.52 0-1.04.2-1.43.59L10.3 9.45l-7.72 7.72c-.78.78-.78 2.05 0 2.83L4 21.41c.39.39.9.59 1.41.59.51 0 1.02-.2 1.41-.59l7.78-7.78 2.81-2.81c.8-.78.8-2.07 0-2.86zM5.41 20L4 18.59l7.72-7.72 1.47 1.35L5.41 20z\"/>\n",
              "  </svg>\n",
              "      </button>\n",
              "      \n",
              "  <style>\n",
              "    .colab-df-container {\n",
              "      display:flex;\n",
              "      flex-wrap:wrap;\n",
              "      gap: 12px;\n",
              "    }\n",
              "\n",
              "    .colab-df-convert {\n",
              "      background-color: #E8F0FE;\n",
              "      border: none;\n",
              "      border-radius: 50%;\n",
              "      cursor: pointer;\n",
              "      display: none;\n",
              "      fill: #1967D2;\n",
              "      height: 32px;\n",
              "      padding: 0 0 0 0;\n",
              "      width: 32px;\n",
              "    }\n",
              "\n",
              "    .colab-df-convert:hover {\n",
              "      background-color: #E2EBFA;\n",
              "      box-shadow: 0px 1px 2px rgba(60, 64, 67, 0.3), 0px 1px 3px 1px rgba(60, 64, 67, 0.15);\n",
              "      fill: #174EA6;\n",
              "    }\n",
              "\n",
              "    [theme=dark] .colab-df-convert {\n",
              "      background-color: #3B4455;\n",
              "      fill: #D2E3FC;\n",
              "    }\n",
              "\n",
              "    [theme=dark] .colab-df-convert:hover {\n",
              "      background-color: #434B5C;\n",
              "      box-shadow: 0px 1px 3px 1px rgba(0, 0, 0, 0.15);\n",
              "      filter: drop-shadow(0px 1px 2px rgba(0, 0, 0, 0.3));\n",
              "      fill: #FFFFFF;\n",
              "    }\n",
              "  </style>\n",
              "\n",
              "      <script>\n",
              "        const buttonEl =\n",
              "          document.querySelector('#df-e7dd8479-e0ea-4bd5-afd7-886b66a2132a button.colab-df-convert');\n",
              "        buttonEl.style.display =\n",
              "          google.colab.kernel.accessAllowed ? 'block' : 'none';\n",
              "\n",
              "        async function convertToInteractive(key) {\n",
              "          const element = document.querySelector('#df-e7dd8479-e0ea-4bd5-afd7-886b66a2132a');\n",
              "          const dataTable =\n",
              "            await google.colab.kernel.invokeFunction('convertToInteractive',\n",
              "                                                     [key], {});\n",
              "          if (!dataTable) return;\n",
              "\n",
              "          const docLinkHtml = 'Like what you see? Visit the ' +\n",
              "            '<a target=\"_blank\" href=https://colab.research.google.com/notebooks/data_table.ipynb>data table notebook</a>'\n",
              "            + ' to learn more about interactive tables.';\n",
              "          element.innerHTML = '';\n",
              "          dataTable['output_type'] = 'display_data';\n",
              "          await google.colab.output.renderOutput(dataTable, element);\n",
              "          const docLink = document.createElement('div');\n",
              "          docLink.innerHTML = docLinkHtml;\n",
              "          element.appendChild(docLink);\n",
              "        }\n",
              "      </script>\n",
              "    </div>\n",
              "  </div>\n",
              "  "
            ]
          },
          "metadata": {},
          "execution_count": 2
        }
      ]
    },
    {
      "cell_type": "code",
      "source": [
        "# 2.2 Inspect the dataframe\n",
        "df.info()"
      ],
      "metadata": {
        "colab": {
          "base_uri": "https://localhost:8080/"
        },
        "id": "94O-wywXbpkj",
        "outputId": "c30d91f8-9c8a-46bb-ffb5-c6d0a52bfbef"
      },
      "execution_count": 3,
      "outputs": [
        {
          "output_type": "stream",
          "name": "stdout",
          "text": [
            "<class 'pandas.core.frame.DataFrame'>\n",
            "RangeIndex: 44898 entries, 0 to 44897\n",
            "Data columns (total 3 columns):\n",
            " #   Column  Non-Null Count  Dtype \n",
            "---  ------  --------------  ----- \n",
            " 0   title   44898 non-null  object\n",
            " 1   text    44898 non-null  object\n",
            " 2   label   44898 non-null  object\n",
            "dtypes: object(3)\n",
            "memory usage: 1.0+ MB\n"
          ]
        }
      ]
    },
    {
      "cell_type": "markdown",
      "source": [
        "\n",
        "\n",
        "*   After Inspecting we can see there are 44898 rows and 3 columns\n",
        "\n"
      ],
      "metadata": {
        "id": "jkMHegzPoivy"
      }
    },
    {
      "cell_type": "code",
      "source": [
        "# The df.isna()/isnull() code gives the counts of missing values\n",
        "df.isna().sum()"
      ],
      "metadata": {
        "colab": {
          "base_uri": "https://localhost:8080/"
        },
        "id": "jxYhaQCocXXr",
        "outputId": "38199982-cdf0-4e74-e855-055f9727832c"
      },
      "execution_count": 4,
      "outputs": [
        {
          "output_type": "execute_result",
          "data": {
            "text/plain": [
              "title    0\n",
              "text     0\n",
              "label    0\n",
              "dtype: int64"
            ]
          },
          "metadata": {},
          "execution_count": 4
        }
      ]
    },
    {
      "cell_type": "markdown",
      "source": [
        "\n",
        "\n",
        "*   We can see there is no null values in the dataset\n",
        "\n"
      ],
      "metadata": {
        "id": "Pix9zYzdo09Q"
      }
    },
    {
      "cell_type": "code",
      "source": [
        "df['label'].value_counts(normalize=True)"
      ],
      "metadata": {
        "colab": {
          "base_uri": "https://localhost:8080/"
        },
        "id": "NhJqABw6ca5r",
        "outputId": "73626954-3a92-4960-fbe8-757427da9299"
      },
      "execution_count": 5,
      "outputs": [
        {
          "output_type": "execute_result",
          "data": {
            "text/plain": [
              "fake    0.522985\n",
              "true    0.477015\n",
              "Name: label, dtype: float64"
            ]
          },
          "metadata": {},
          "execution_count": 5
        }
      ]
    },
    {
      "cell_type": "markdown",
      "source": [
        "\n",
        "\n",
        "**The Percentage of True and Fake News articles:**\n",
        "\n",
        "- True:- 48%\n",
        "- Fake:- 52%\n"
      ],
      "metadata": {
        "id": "HxoL-vbrpa_P"
      }
    },
    {
      "cell_type": "code",
      "source": [
        "df['label'].replace({'true':1,'fake':0},inplace=True)\n",
        "df.head()"
      ],
      "metadata": {
        "colab": {
          "base_uri": "https://localhost:8080/",
          "height": 206
        },
        "id": "ZNVwvSi41HOA",
        "outputId": "ddf03cdc-f979-4379-a36a-7184d2e9adf9"
      },
      "execution_count": 6,
      "outputs": [
        {
          "output_type": "execute_result",
          "data": {
            "text/plain": [
              "                                               title  \\\n",
              "0   Donald Trump Sends Out Embarrassing New Year’...   \n",
              "1   Drunk Bragging Trump Staffer Started Russian ...   \n",
              "2   Sheriff David Clarke Becomes An Internet Joke...   \n",
              "3   Trump Is So Obsessed He Even Has Obama’s Name...   \n",
              "4   Pope Francis Just Called Out Donald Trump Dur...   \n",
              "\n",
              "                                                text  label  \n",
              "0  Donald Trump just couldn t wish all Americans ...      0  \n",
              "1  House Intelligence Committee Chairman Devin Nu...      0  \n",
              "2  On Friday, it was revealed that former Milwauk...      0  \n",
              "3  On Christmas day, Donald Trump announced that ...      0  \n",
              "4  Pope Francis used his annual Christmas Day mes...      0  "
            ],
            "text/html": [
              "\n",
              "  <div id=\"df-20407987-8bb0-42c4-a53b-0668987ec7da\">\n",
              "    <div class=\"colab-df-container\">\n",
              "      <div>\n",
              "<style scoped>\n",
              "    .dataframe tbody tr th:only-of-type {\n",
              "        vertical-align: middle;\n",
              "    }\n",
              "\n",
              "    .dataframe tbody tr th {\n",
              "        vertical-align: top;\n",
              "    }\n",
              "\n",
              "    .dataframe thead th {\n",
              "        text-align: right;\n",
              "    }\n",
              "</style>\n",
              "<table border=\"1\" class=\"dataframe\">\n",
              "  <thead>\n",
              "    <tr style=\"text-align: right;\">\n",
              "      <th></th>\n",
              "      <th>title</th>\n",
              "      <th>text</th>\n",
              "      <th>label</th>\n",
              "    </tr>\n",
              "  </thead>\n",
              "  <tbody>\n",
              "    <tr>\n",
              "      <th>0</th>\n",
              "      <td>Donald Trump Sends Out Embarrassing New Year’...</td>\n",
              "      <td>Donald Trump just couldn t wish all Americans ...</td>\n",
              "      <td>0</td>\n",
              "    </tr>\n",
              "    <tr>\n",
              "      <th>1</th>\n",
              "      <td>Drunk Bragging Trump Staffer Started Russian ...</td>\n",
              "      <td>House Intelligence Committee Chairman Devin Nu...</td>\n",
              "      <td>0</td>\n",
              "    </tr>\n",
              "    <tr>\n",
              "      <th>2</th>\n",
              "      <td>Sheriff David Clarke Becomes An Internet Joke...</td>\n",
              "      <td>On Friday, it was revealed that former Milwauk...</td>\n",
              "      <td>0</td>\n",
              "    </tr>\n",
              "    <tr>\n",
              "      <th>3</th>\n",
              "      <td>Trump Is So Obsessed He Even Has Obama’s Name...</td>\n",
              "      <td>On Christmas day, Donald Trump announced that ...</td>\n",
              "      <td>0</td>\n",
              "    </tr>\n",
              "    <tr>\n",
              "      <th>4</th>\n",
              "      <td>Pope Francis Just Called Out Donald Trump Dur...</td>\n",
              "      <td>Pope Francis used his annual Christmas Day mes...</td>\n",
              "      <td>0</td>\n",
              "    </tr>\n",
              "  </tbody>\n",
              "</table>\n",
              "</div>\n",
              "      <button class=\"colab-df-convert\" onclick=\"convertToInteractive('df-20407987-8bb0-42c4-a53b-0668987ec7da')\"\n",
              "              title=\"Convert this dataframe to an interactive table.\"\n",
              "              style=\"display:none;\">\n",
              "        \n",
              "  <svg xmlns=\"http://www.w3.org/2000/svg\" height=\"24px\"viewBox=\"0 0 24 24\"\n",
              "       width=\"24px\">\n",
              "    <path d=\"M0 0h24v24H0V0z\" fill=\"none\"/>\n",
              "    <path d=\"M18.56 5.44l.94 2.06.94-2.06 2.06-.94-2.06-.94-.94-2.06-.94 2.06-2.06.94zm-11 1L8.5 8.5l.94-2.06 2.06-.94-2.06-.94L8.5 2.5l-.94 2.06-2.06.94zm10 10l.94 2.06.94-2.06 2.06-.94-2.06-.94-.94-2.06-.94 2.06-2.06.94z\"/><path d=\"M17.41 7.96l-1.37-1.37c-.4-.4-.92-.59-1.43-.59-.52 0-1.04.2-1.43.59L10.3 9.45l-7.72 7.72c-.78.78-.78 2.05 0 2.83L4 21.41c.39.39.9.59 1.41.59.51 0 1.02-.2 1.41-.59l7.78-7.78 2.81-2.81c.8-.78.8-2.07 0-2.86zM5.41 20L4 18.59l7.72-7.72 1.47 1.35L5.41 20z\"/>\n",
              "  </svg>\n",
              "      </button>\n",
              "      \n",
              "  <style>\n",
              "    .colab-df-container {\n",
              "      display:flex;\n",
              "      flex-wrap:wrap;\n",
              "      gap: 12px;\n",
              "    }\n",
              "\n",
              "    .colab-df-convert {\n",
              "      background-color: #E8F0FE;\n",
              "      border: none;\n",
              "      border-radius: 50%;\n",
              "      cursor: pointer;\n",
              "      display: none;\n",
              "      fill: #1967D2;\n",
              "      height: 32px;\n",
              "      padding: 0 0 0 0;\n",
              "      width: 32px;\n",
              "    }\n",
              "\n",
              "    .colab-df-convert:hover {\n",
              "      background-color: #E2EBFA;\n",
              "      box-shadow: 0px 1px 2px rgba(60, 64, 67, 0.3), 0px 1px 3px 1px rgba(60, 64, 67, 0.15);\n",
              "      fill: #174EA6;\n",
              "    }\n",
              "\n",
              "    [theme=dark] .colab-df-convert {\n",
              "      background-color: #3B4455;\n",
              "      fill: #D2E3FC;\n",
              "    }\n",
              "\n",
              "    [theme=dark] .colab-df-convert:hover {\n",
              "      background-color: #434B5C;\n",
              "      box-shadow: 0px 1px 3px 1px rgba(0, 0, 0, 0.15);\n",
              "      filter: drop-shadow(0px 1px 2px rgba(0, 0, 0, 0.3));\n",
              "      fill: #FFFFFF;\n",
              "    }\n",
              "  </style>\n",
              "\n",
              "      <script>\n",
              "        const buttonEl =\n",
              "          document.querySelector('#df-20407987-8bb0-42c4-a53b-0668987ec7da button.colab-df-convert');\n",
              "        buttonEl.style.display =\n",
              "          google.colab.kernel.accessAllowed ? 'block' : 'none';\n",
              "\n",
              "        async function convertToInteractive(key) {\n",
              "          const element = document.querySelector('#df-20407987-8bb0-42c4-a53b-0668987ec7da');\n",
              "          const dataTable =\n",
              "            await google.colab.kernel.invokeFunction('convertToInteractive',\n",
              "                                                     [key], {});\n",
              "          if (!dataTable) return;\n",
              "\n",
              "          const docLinkHtml = 'Like what you see? Visit the ' +\n",
              "            '<a target=\"_blank\" href=https://colab.research.google.com/notebooks/data_table.ipynb>data table notebook</a>'\n",
              "            + ' to learn more about interactive tables.';\n",
              "          element.innerHTML = '';\n",
              "          dataTable['output_type'] = 'display_data';\n",
              "          await google.colab.output.renderOutput(dataTable, element);\n",
              "          const docLink = document.createElement('div');\n",
              "          docLink.innerHTML = docLinkHtml;\n",
              "          element.appendChild(docLink);\n",
              "        }\n",
              "      </script>\n",
              "    </div>\n",
              "  </div>\n",
              "  "
            ]
          },
          "metadata": {},
          "execution_count": 6
        }
      ]
    },
    {
      "cell_type": "code",
      "source": [
        "class_names = ['fake','true']\n",
        "l_count = df['label'].value_counts()\n",
        "sns.barplot(x=l_count.index, y=l_count)\n",
        "plt.title('Distribution of Fake/True News',fontsize =14)"
      ],
      "metadata": {
        "colab": {
          "base_uri": "https://localhost:8080/",
          "height": 471
        },
        "id": "Z7dDejFV17J_",
        "outputId": "cc653abf-1b3a-4fc9-99ad-220f157a359c"
      },
      "execution_count": 7,
      "outputs": [
        {
          "output_type": "execute_result",
          "data": {
            "text/plain": [
              "Text(0.5, 1.0, 'Distribution of Fake/True News')"
            ]
          },
          "metadata": {},
          "execution_count": 7
        },
        {
          "output_type": "display_data",
          "data": {
            "text/plain": [
              "<Figure size 640x480 with 1 Axes>"
            ],
            "image/png": "[encoded data removed]"
          },
          "metadata": {}
        }
      ]
    },
    {
      "cell_type": "markdown",
      "source": [
        "-  Data Visualization of all News Titles"
      ],
      "metadata": {
        "id": "uJQbMhTp4ET7"
      }
    },
    {
      "cell_type": "code",
      "source": [
        "from wordcloud import WordCloud\n",
        "titles = ' '.join(title for title in df['title'])\n",
        "wordcloud = WordCloud(\n",
        "    background_color='white',\n",
        "    max_words=300,\n",
        "    width=800,\n",
        "    height=400,\n",
        ").generate(titles)\n",
        "\n",
        "plt.figure(figsize=(10, 6))\n",
        "plt.imshow(wordcloud, interpolation='bilinear')\n",
        "plt.axis(\"off\")\n",
        "plt.show()"
      ],
      "metadata": {
        "colab": {
          "base_uri": "https://localhost:8080/",
          "height": 424
        },
        "id": "otY_9jKo2yXj",
        "outputId": "d4f6b177-21f0-4269-9cbe-051d862c51fc"
      },
      "execution_count": 8,
      "outputs": [
        {
          "output_type": "display_data",
          "data": {
            "text/plain": [
              "<Figure size 1000x600 with 1 Axes>"
            ],
            "image/png": "[encoded data removed]"
          },
          "metadata": {}
        }
      ]
    },
    {
      "cell_type": "markdown",
      "source": [
        "**Many of available news articles are about elections and presidents of USA**"
      ],
      "metadata": {
        "id": "qPYTsxbc33bU"
      }
    },
    {
      "cell_type": "code",
      "source": [
        "def clean_text(msg):\n",
        "  token = word_tokenize(msg.lower())\n",
        "  ftoken = [i for i in token if i.isalpha()]\n",
        "\n",
        "  stop = stopwords.words('english')\n",
        "  stoken = [i for i in ftoken if i not in stop]\n",
        "\n",
        "  lemma = WordNetLemmatizer()\n",
        "  ltoken = [lemma.lemmatize(i) for i in stoken]\n",
        "\n",
        "  return ' '.join(ltoken)"
      ],
      "metadata": {
        "id": "nA67jaA0g0vK"
      },
      "execution_count": 9,
      "outputs": []
    },
    {
      "cell_type": "code",
      "source": [
        "#Converting data type of 'title' column into string type\n",
        "df['title']=df['title'].astype(str)"
      ],
      "metadata": {
        "id": "9v42SpOWoFiZ"
      },
      "execution_count": 10,
      "outputs": []
    },
    {
      "cell_type": "code",
      "source": [
        "df['clean_msg'] = df['title'].apply(clean_text)"
      ],
      "metadata": {
        "id": "2qyEtoUwoK8e"
      },
      "execution_count": 11,
      "outputs": []
    },
    {
      "cell_type": "code",
      "source": [
        "df.head()"
      ],
      "metadata": {
        "colab": {
          "base_uri": "https://localhost:8080/",
          "height": 336
        },
        "id": "Q9q7omaFoSW7",
        "outputId": "c9596968-89b7-4d26-e8ff-1423835ed7f1"
      },
      "execution_count": 12,
      "outputs": [
        {
          "output_type": "execute_result",
          "data": {
            "text/plain": [
              "                                               title  \\\n",
              "0   Donald Trump Sends Out Embarrassing New Year’...   \n",
              "1   Drunk Bragging Trump Staffer Started Russian ...   \n",
              "2   Sheriff David Clarke Becomes An Internet Joke...   \n",
              "3   Trump Is So Obsessed He Even Has Obama’s Name...   \n",
              "4   Pope Francis Just Called Out Donald Trump Dur...   \n",
              "\n",
              "                                                text  label  \\\n",
              "0  Donald Trump just couldn t wish all Americans ...      0   \n",
              "1  House Intelligence Committee Chairman Devin Nu...      0   \n",
              "2  On Friday, it was revealed that former Milwauk...      0   \n",
              "3  On Christmas day, Donald Trump announced that ...      0   \n",
              "4  Pope Francis used his annual Christmas Day mes...      0   \n",
              "\n",
              "                                           clean_msg  \n",
              "0  donald trump sends embarrassing new year eve m...  \n",
              "1  drunk bragging trump staffer started russian c...  \n",
              "2  sheriff david clarke becomes internet joke thr...  \n",
              "3  trump obsessed even obama name coded website i...  \n",
              "4  pope francis called donald trump christmas speech  "
            ],
            "text/html": [
              "\n",
              "  <div id=\"df-b6625994-8a39-4cc5-b02a-36d4cbf4188b\">\n",
              "    <div class=\"colab-df-container\">\n",
              "      <div>\n",
              "<style scoped>\n",
              "    .dataframe tbody tr th:only-of-type {\n",
              "        vertical-align: middle;\n",
              "    }\n",
              "\n",
              "    .dataframe tbody tr th {\n",
              "        vertical-align: top;\n",
              "    }\n",
              "\n",
              "    .dataframe thead th {\n",
              "        text-align: right;\n",
              "    }\n",
              "</style>\n",
              "<table border=\"1\" class=\"dataframe\">\n",
              "  <thead>\n",
              "    <tr style=\"text-align: right;\">\n",
              "      <th></th>\n",
              "      <th>title</th>\n",
              "      <th>text</th>\n",
              "      <th>label</th>\n",
              "      <th>clean_msg</th>\n",
              "    </tr>\n",
              "  </thead>\n",
              "  <tbody>\n",
              "    <tr>\n",
              "      <th>0</th>\n",
              "      <td>Donald Trump Sends Out Embarrassing New Year’...</td>\n",
              "      <td>Donald Trump just couldn t wish all Americans ...</td>\n",
              "      <td>0</td>\n",
              "      <td>donald trump sends embarrassing new year eve m...</td>\n",
              "    </tr>\n",
              "    <tr>\n",
              "      <th>1</th>\n",
              "      <td>Drunk Bragging Trump Staffer Started Russian ...</td>\n",
              "      <td>House Intelligence Committee Chairman Devin Nu...</td>\n",
              "      <td>0</td>\n",
              "      <td>drunk bragging trump staffer started russian c...</td>\n",
              "    </tr>\n",
              "    <tr>\n",
              "      <th>2</th>\n",
              "      <td>Sheriff David Clarke Becomes An Internet Joke...</td>\n",
              "      <td>On Friday, it was revealed that former Milwauk...</td>\n",
              "      <td>0</td>\n",
              "      <td>sheriff david clarke becomes internet joke thr...</td>\n",
              "    </tr>\n",
              "    <tr>\n",
              "      <th>3</th>\n",
              "      <td>Trump Is So Obsessed He Even Has Obama’s Name...</td>\n",
              "      <td>On Christmas day, Donald Trump announced that ...</td>\n",
              "      <td>0</td>\n",
              "      <td>trump obsessed even obama name coded website i...</td>\n",
              "    </tr>\n",
              "    <tr>\n",
              "      <th>4</th>\n",
              "      <td>Pope Francis Just Called Out Donald Trump Dur...</td>\n",
              "      <td>Pope Francis used his annual Christmas Day mes...</td>\n",
              "      <td>0</td>\n",
              "      <td>pope francis called donald trump christmas speech</td>\n",
              "    </tr>\n",
              "  </tbody>\n",
              "</table>\n",
              "</div>\n",
              "      <button class=\"colab-df-convert\" onclick=\"convertToInteractive('df-b6625994-8a39-4cc5-b02a-36d4cbf4188b')\"\n",
              "              title=\"Convert this dataframe to an interactive table.\"\n",
              "              style=\"display:none;\">\n",
              "        \n",
              "  <svg xmlns=\"http://www.w3.org/2000/svg\" height=\"24px\"viewBox=\"0 0 24 24\"\n",
              "       width=\"24px\">\n",
              "    <path d=\"M0 0h24v24H0V0z\" fill=\"none\"/>\n",
              "    <path d=\"M18.56 5.44l.94 2.06.94-2.06 2.06-.94-2.06-.94-.94-2.06-.94 2.06-2.06.94zm-11 1L8.5 8.5l.94-2.06 2.06-.94-2.06-.94L8.5 2.5l-.94 2.06-2.06.94zm10 10l.94 2.06.94-2.06 2.06-.94-2.06-.94-.94-2.06-.94 2.06-2.06.94z\"/><path d=\"M17.41 7.96l-1.37-1.37c-.4-.4-.92-.59-1.43-.59-.52 0-1.04.2-1.43.59L10.3 9.45l-7.72 7.72c-.78.78-.78 2.05 0 2.83L4 21.41c.39.39.9.59 1.41.59.51 0 1.02-.2 1.41-.59l7.78-7.78 2.81-2.81c.8-.78.8-2.07 0-2.86zM5.41 20L4 18.59l7.72-7.72 1.47 1.35L5.41 20z\"/>\n",
              "  </svg>\n",
              "      </button>\n",
              "      \n",
              "  <style>\n",
              "    .colab-df-container {\n",
              "      display:flex;\n",
              "      flex-wrap:wrap;\n",
              "      gap: 12px;\n",
              "    }\n",
              "\n",
              "    .colab-df-convert {\n",
              "      background-color: #E8F0FE;\n",
              "      border: none;\n",
              "      border-radius: 50%;\n",
              "      cursor: pointer;\n",
              "      display: none;\n",
              "      fill: #1967D2;\n",
              "      height: 32px;\n",
              "      padding: 0 0 0 0;\n",
              "      width: 32px;\n",
              "    }\n",
              "\n",
              "    .colab-df-convert:hover {\n",
              "      background-color: #E2EBFA;\n",
              "      box-shadow: 0px 1px 2px rgba(60, 64, 67, 0.3), 0px 1px 3px 1px rgba(60, 64, 67, 0.15);\n",
              "      fill: #174EA6;\n",
              "    }\n",
              "\n",
              "    [theme=dark] .colab-df-convert {\n",
              "      background-color: #3B4455;\n",
              "      fill: #D2E3FC;\n",
              "    }\n",
              "\n",
              "    [theme=dark] .colab-df-convert:hover {\n",
              "      background-color: #434B5C;\n",
              "      box-shadow: 0px 1px 3px 1px rgba(0, 0, 0, 0.15);\n",
              "      filter: drop-shadow(0px 1px 2px rgba(0, 0, 0, 0.3));\n",
              "      fill: #FFFFFF;\n",
              "    }\n",
              "  </style>\n",
              "\n",
              "      <script>\n",
              "        const buttonEl =\n",
              "          document.querySelector('#df-b6625994-8a39-4cc5-b02a-36d4cbf4188b button.colab-df-convert');\n",
              "        buttonEl.style.display =\n",
              "          google.colab.kernel.accessAllowed ? 'block' : 'none';\n",
              "\n",
              "        async function convertToInteractive(key) {\n",
              "          const element = document.querySelector('#df-b6625994-8a39-4cc5-b02a-36d4cbf4188b');\n",
              "          const dataTable =\n",
              "            await google.colab.kernel.invokeFunction('convertToInteractive',\n",
              "                                                     [key], {});\n",
              "          if (!dataTable) return;\n",
              "\n",
              "          const docLinkHtml = 'Like what you see? Visit the ' +\n",
              "            '<a target=\"_blank\" href=https://colab.research.google.com/notebooks/data_table.ipynb>data table notebook</a>'\n",
              "            + ' to learn more about interactive tables.';\n",
              "          element.innerHTML = '';\n",
              "          dataTable['output_type'] = 'display_data';\n",
              "          await google.colab.output.renderOutput(dataTable, element);\n",
              "          const docLink = document.createElement('div');\n",
              "          docLink.innerHTML = docLinkHtml;\n",
              "          element.appendChild(docLink);\n",
              "        }\n",
              "      </script>\n",
              "    </div>\n",
              "  </div>\n",
              "  "
            ]
          },
          "metadata": {},
          "execution_count": 12
        }
      ]
    },
    {
      "cell_type": "markdown",
      "source": [
        "#Step 3:-Data Preprocessing"
      ],
      "metadata": {
        "id": "xB4j5KZQhMJy"
      }
    },
    {
      "cell_type": "code",
      "source": [
        "#spliting data into x and y\n",
        "x = df['clean_msg']\n",
        "y = df['label']"
      ],
      "metadata": {
        "id": "iGuInaCBpRLK"
      },
      "execution_count": 13,
      "outputs": []
    },
    {
      "cell_type": "code",
      "source": [
        "y"
      ],
      "metadata": {
        "colab": {
          "base_uri": "https://localhost:8080/"
        },
        "id": "OJUQVRC2qA4g",
        "outputId": "a7da5761-7ed2-40b4-d3c3-c73efc7b9c15"
      },
      "execution_count": 14,
      "outputs": [
        {
          "output_type": "execute_result",
          "data": {
            "text/plain": [
              "0        0\n",
              "1        0\n",
              "2        0\n",
              "3        0\n",
              "4        0\n",
              "        ..\n",
              "44893    1\n",
              "44894    1\n",
              "44895    1\n",
              "44896    1\n",
              "44897    1\n",
              "Name: label, Length: 44898, dtype: int64"
            ]
          },
          "metadata": {},
          "execution_count": 14
        }
      ]
    },
    {
      "cell_type": "code",
      "source": [
        "# Spliting the dataset into 70% and 30% for train and test respectively\n",
        "from sklearn.model_selection import train_test_split\n",
        "xtrain,xtest,ytrain,ytest=train_test_split(x,y,test_size=0.30,random_state=1)"
      ],
      "metadata": {
        "id": "Enpmw3bWqB7X"
      },
      "execution_count": 15,
      "outputs": []
    },
    {
      "cell_type": "code",
      "source": [
        "from sklearn.feature_extraction.text import CountVectorizer\n",
        "cvec = CountVectorizer(min_df=0.02)\n",
        "xtrain = cvec.fit_transform(xtrain).toarray()\n",
        "xtest = cvec.transform(xtest).toarray()"
      ],
      "metadata": {
        "id": "MtlZSwg6qQaN"
      },
      "execution_count": 16,
      "outputs": []
    },
    {
      "cell_type": "code",
      "source": [
        "x"
      ],
      "metadata": {
        "colab": {
          "base_uri": "https://localhost:8080/"
        },
        "id": "0ieDuQy7qvdx",
        "outputId": "d58d6124-ca16-4ccd-e5f7-e3741576077e"
      },
      "execution_count": 17,
      "outputs": [
        {
          "output_type": "execute_result",
          "data": {
            "text/plain": [
              "0        donald trump sends embarrassing new year eve m...\n",
              "1        drunk bragging trump staffer started russian c...\n",
              "2        sheriff david clarke becomes internet joke thr...\n",
              "3        trump obsessed even obama name coded website i...\n",
              "4        pope francis called donald trump christmas speech\n",
              "                               ...                        \n",
              "44893         committed nato back new approach afghanistan\n",
              "44894       lexisnexis withdrew two product chinese market\n",
              "44895                 minsk cultural hub becomes authority\n",
              "44896    vatican upbeat possibility pope francis visiti...\n",
              "44897              indonesia buy billion worth russian jet\n",
              "Name: clean_msg, Length: 44898, dtype: object"
            ]
          },
          "metadata": {},
          "execution_count": 17
        }
      ]
    },
    {
      "cell_type": "code",
      "source": [
        "df.head()"
      ],
      "metadata": {
        "colab": {
          "base_uri": "https://localhost:8080/",
          "height": 336
        },
        "id": "jaodSCg8qv_2",
        "outputId": "68b70d05-a343-4113-f01a-aaa2ed7c0fbf"
      },
      "execution_count": 18,
      "outputs": [
        {
          "output_type": "execute_result",
          "data": {
            "text/plain": [
              "                                               title  \\\n",
              "0   Donald Trump Sends Out Embarrassing New Year’...   \n",
              "1   Drunk Bragging Trump Staffer Started Russian ...   \n",
              "2   Sheriff David Clarke Becomes An Internet Joke...   \n",
              "3   Trump Is So Obsessed He Even Has Obama’s Name...   \n",
              "4   Pope Francis Just Called Out Donald Trump Dur...   \n",
              "\n",
              "                                                text  label  \\\n",
              "0  Donald Trump just couldn t wish all Americans ...      0   \n",
              "1  House Intelligence Committee Chairman Devin Nu...      0   \n",
              "2  On Friday, it was revealed that former Milwauk...      0   \n",
              "3  On Christmas day, Donald Trump announced that ...      0   \n",
              "4  Pope Francis used his annual Christmas Day mes...      0   \n",
              "\n",
              "                                           clean_msg  \n",
              "0  donald trump sends embarrassing new year eve m...  \n",
              "1  drunk bragging trump staffer started russian c...  \n",
              "2  sheriff david clarke becomes internet joke thr...  \n",
              "3  trump obsessed even obama name coded website i...  \n",
              "4  pope francis called donald trump christmas speech  "
            ],
            "text/html": [
              "\n",
              "  <div id=\"df-cc10c4ae-abd8-439e-a2b7-6cb67510ded2\">\n",
              "    <div class=\"colab-df-container\">\n",
              "      <div>\n",
              "<style scoped>\n",
              "    .dataframe tbody tr th:only-of-type {\n",
              "        vertical-align: middle;\n",
              "    }\n",
              "\n",
              "    .dataframe tbody tr th {\n",
              "        vertical-align: top;\n",
              "    }\n",
              "\n",
              "    .dataframe thead th {\n",
              "        text-align: right;\n",
              "    }\n",
              "</style>\n",
              "<table border=\"1\" class=\"dataframe\">\n",
              "  <thead>\n",
              "    <tr style=\"text-align: right;\">\n",
              "      <th></th>\n",
              "      <th>title</th>\n",
              "      <th>text</th>\n",
              "      <th>label</th>\n",
              "      <th>clean_msg</th>\n",
              "    </tr>\n",
              "  </thead>\n",
              "  <tbody>\n",
              "    <tr>\n",
              "      <th>0</th>\n",
              "      <td>Donald Trump Sends Out Embarrassing New Year’...</td>\n",
              "      <td>Donald Trump just couldn t wish all Americans ...</td>\n",
              "      <td>0</td>\n",
              "      <td>donald trump sends embarrassing new year eve m...</td>\n",
              "    </tr>\n",
              "    <tr>\n",
              "      <th>1</th>\n",
              "      <td>Drunk Bragging Trump Staffer Started Russian ...</td>\n",
              "      <td>House Intelligence Committee Chairman Devin Nu...</td>\n",
              "      <td>0</td>\n",
              "      <td>drunk bragging trump staffer started russian c...</td>\n",
              "    </tr>\n",
              "    <tr>\n",
              "      <th>2</th>\n",
              "      <td>Sheriff David Clarke Becomes An Internet Joke...</td>\n",
              "      <td>On Friday, it was revealed that former Milwauk...</td>\n",
              "      <td>0</td>\n",
              "      <td>sheriff david clarke becomes internet joke thr...</td>\n",
              "    </tr>\n",
              "    <tr>\n",
              "      <th>3</th>\n",
              "      <td>Trump Is So Obsessed He Even Has Obama’s Name...</td>\n",
              "      <td>On Christmas day, Donald Trump announced that ...</td>\n",
              "      <td>0</td>\n",
              "      <td>trump obsessed even obama name coded website i...</td>\n",
              "    </tr>\n",
              "    <tr>\n",
              "      <th>4</th>\n",
              "      <td>Pope Francis Just Called Out Donald Trump Dur...</td>\n",
              "      <td>Pope Francis used his annual Christmas Day mes...</td>\n",
              "      <td>0</td>\n",
              "      <td>pope francis called donald trump christmas speech</td>\n",
              "    </tr>\n",
              "  </tbody>\n",
              "</table>\n",
              "</div>\n",
              "      <button class=\"colab-df-convert\" onclick=\"convertToInteractive('df-cc10c4ae-abd8-439e-a2b7-6cb67510ded2')\"\n",
              "              title=\"Convert this dataframe to an interactive table.\"\n",
              "              style=\"display:none;\">\n",
              "        \n",
              "  <svg xmlns=\"http://www.w3.org/2000/svg\" height=\"24px\"viewBox=\"0 0 24 24\"\n",
              "       width=\"24px\">\n",
              "    <path d=\"M0 0h24v24H0V0z\" fill=\"none\"/>\n",
              "    <path d=\"M18.56 5.44l.94 2.06.94-2.06 2.06-.94-2.06-.94-.94-2.06-.94 2.06-2.06.94zm-11 1L8.5 8.5l.94-2.06 2.06-.94-2.06-.94L8.5 2.5l-.94 2.06-2.06.94zm10 10l.94 2.06.94-2.06 2.06-.94-2.06-.94-.94-2.06-.94 2.06-2.06.94z\"/><path d=\"M17.41 7.96l-1.37-1.37c-.4-.4-.92-.59-1.43-.59-.52 0-1.04.2-1.43.59L10.3 9.45l-7.72 7.72c-.78.78-.78 2.05 0 2.83L4 21.41c.39.39.9.59 1.41.59.51 0 1.02-.2 1.41-.59l7.78-7.78 2.81-2.81c.8-.78.8-2.07 0-2.86zM5.41 20L4 18.59l7.72-7.72 1.47 1.35L5.41 20z\"/>\n",
              "  </svg>\n",
              "      </button>\n",
              "      \n",
              "  <style>\n",
              "    .colab-df-container {\n",
              "      display:flex;\n",
              "      flex-wrap:wrap;\n",
              "      gap: 12px;\n",
              "    }\n",
              "\n",
              "    .colab-df-convert {\n",
              "      background-color: #E8F0FE;\n",
              "      border: none;\n",
              "      border-radius: 50%;\n",
              "      cursor: pointer;\n",
              "      display: none;\n",
              "      fill: #1967D2;\n",
              "      height: 32px;\n",
              "      padding: 0 0 0 0;\n",
              "      width: 32px;\n",
              "    }\n",
              "\n",
              "    .colab-df-convert:hover {\n",
              "      background-color: #E2EBFA;\n",
              "      box-shadow: 0px 1px 2px rgba(60, 64, 67, 0.3), 0px 1px 3px 1px rgba(60, 64, 67, 0.15);\n",
              "      fill: #174EA6;\n",
              "    }\n",
              "\n",
              "    [theme=dark] .colab-df-convert {\n",
              "      background-color: #3B4455;\n",
              "      fill: #D2E3FC;\n",
              "    }\n",
              "\n",
              "    [theme=dark] .colab-df-convert:hover {\n",
              "      background-color: #434B5C;\n",
              "      box-shadow: 0px 1px 3px 1px rgba(0, 0, 0, 0.15);\n",
              "      filter: drop-shadow(0px 1px 2px rgba(0, 0, 0, 0.3));\n",
              "      fill: #FFFFFF;\n",
              "    }\n",
              "  </style>\n",
              "\n",
              "      <script>\n",
              "        const buttonEl =\n",
              "          document.querySelector('#df-cc10c4ae-abd8-439e-a2b7-6cb67510ded2 button.colab-df-convert');\n",
              "        buttonEl.style.display =\n",
              "          google.colab.kernel.accessAllowed ? 'block' : 'none';\n",
              "\n",
              "        async function convertToInteractive(key) {\n",
              "          const element = document.querySelector('#df-cc10c4ae-abd8-439e-a2b7-6cb67510ded2');\n",
              "          const dataTable =\n",
              "            await google.colab.kernel.invokeFunction('convertToInteractive',\n",
              "                                                     [key], {});\n",
              "          if (!dataTable) return;\n",
              "\n",
              "          const docLinkHtml = 'Like what you see? Visit the ' +\n",
              "            '<a target=\"_blank\" href=https://colab.research.google.com/notebooks/data_table.ipynb>data table notebook</a>'\n",
              "            + ' to learn more about interactive tables.';\n",
              "          element.innerHTML = '';\n",
              "          dataTable['output_type'] = 'display_data';\n",
              "          await google.colab.output.renderOutput(dataTable, element);\n",
              "          const docLink = document.createElement('div');\n",
              "          docLink.innerHTML = docLinkHtml;\n",
              "          element.appendChild(docLink);\n",
              "        }\n",
              "      </script>\n",
              "    </div>\n",
              "  </div>\n",
              "  "
            ]
          },
          "metadata": {},
          "execution_count": 18
        }
      ]
    },
    {
      "cell_type": "code",
      "source": [
        "empty = []\n",
        "for indx,tl,txt,lbl,cm in df.itertuples():\n",
        "  if type(cm)==str:\n",
        "    if cm.isspace():\n",
        "      empty.append(indx)\n",
        "print(empty)"
      ],
      "metadata": {
        "colab": {
          "base_uri": "https://localhost:8080/"
        },
        "id": "14-D_0C2srtP",
        "outputId": "a75bb871-3f17-4bf4-eb99-fb8b9992fbb6"
      },
      "execution_count": 19,
      "outputs": [
        {
          "output_type": "stream",
          "name": "stdout",
          "text": [
            "[]\n"
          ]
        }
      ]
    },
    {
      "cell_type": "code",
      "source": [
        "xtrain"
      ],
      "metadata": {
        "colab": {
          "base_uri": "https://localhost:8080/"
        },
        "id": "BsULKG_gtLP7",
        "outputId": "7e688584-673d-4150-8593-03a6feb2c39a"
      },
      "execution_count": 20,
      "outputs": [
        {
          "output_type": "execute_result",
          "data": {
            "text/plain": [
              "array([[0, 0, 0, ..., 0, 1, 0],\n",
              "       [0, 0, 0, ..., 0, 0, 0],\n",
              "       [0, 0, 0, ..., 0, 0, 0],\n",
              "       ...,\n",
              "       [0, 0, 0, ..., 0, 0, 0],\n",
              "       [0, 0, 0, ..., 0, 0, 0],\n",
              "       [0, 1, 0, ..., 0, 0, 0]])"
            ]
          },
          "metadata": {},
          "execution_count": 20
        }
      ]
    },
    {
      "cell_type": "code",
      "source": [
        "xtest"
      ],
      "metadata": {
        "colab": {
          "base_uri": "https://localhost:8080/"
        },
        "id": "az5JUkIqtSfG",
        "outputId": "554afee0-0155-4687-8df5-023b94147ff5"
      },
      "execution_count": 21,
      "outputs": [
        {
          "output_type": "execute_result",
          "data": {
            "text/plain": [
              "array([[0, 0, 0, ..., 0, 0, 0],\n",
              "       [0, 0, 0, ..., 0, 0, 0],\n",
              "       [0, 0, 0, ..., 0, 0, 0],\n",
              "       ...,\n",
              "       [0, 0, 0, ..., 0, 0, 0],\n",
              "       [0, 0, 0, ..., 0, 1, 0],\n",
              "       [0, 0, 0, ..., 0, 0, 0]])"
            ]
          },
          "metadata": {},
          "execution_count": 21
        }
      ]
    },
    {
      "cell_type": "markdown",
      "source": [
        "#Model 1:- ANN"
      ],
      "metadata": {
        "id": "GtiKG6jA6Ggk"
      }
    },
    {
      "cell_type": "code",
      "source": [
        "# Building the 'Artificial Neural Network(ANN)'\n",
        "ann = Sequential()\n",
        "ann.add(Dense(units=32,activation='relu'))\n",
        "ann.add(Dropout(rate=0.20))\n",
        "ann.add(Dense(units=24,activation='relu'))\n",
        "ann.add(Dropout(rate=0.20))\n",
        "ann.add(Dense(units=12,activation='relu'))\n",
        "ann.add(Dropout(rate=0.20))\n",
        "ann.add(Dense(units=1,activation='sigmoid'))\n",
        "ann.compile(optimizer='adam',loss='binary_crossentropy')\n",
        "ann.fit(xtrain,ytrain,batch_size=50,epochs=50,validation_split=0.20)"
      ],
      "metadata": {
        "colab": {
          "base_uri": "https://localhost:8080/"
        },
        "id": "DVZ16GA5tTxe",
        "outputId": "2cf9ff06-b4c6-44ce-cef3-6d08527a2540"
      },
      "execution_count": 22,
      "outputs": [
        {
          "output_type": "stream",
          "name": "stdout",
          "text": [
            "Epoch 1/50\n",
            "503/503 [==============================] - 3s 3ms/step - loss: 0.5243 - val_loss: 0.4450\n",
            "Epoch 2/50\n",
            "503/503 [==============================] - 1s 2ms/step - loss: 0.4584 - val_loss: 0.4414\n",
            "Epoch 3/50\n",
            "503/503 [==============================] - 1s 2ms/step - loss: 0.4510 - val_loss: 0.4377\n",
            "Epoch 4/50\n",
            "503/503 [==============================] - 1s 2ms/step - loss: 0.4475 - val_loss: 0.4347\n",
            "Epoch 5/50\n",
            "503/503 [==============================] - 1s 2ms/step - loss: 0.4448 - val_loss: 0.4373\n",
            "Epoch 6/50\n",
            "503/503 [==============================] - 2s 3ms/step - loss: 0.4437 - val_loss: 0.4326\n",
            "Epoch 7/50\n",
            "503/503 [==============================] - 2s 4ms/step - loss: 0.4425 - val_loss: 0.4333\n",
            "Epoch 8/50\n",
            "503/503 [==============================] - 1s 2ms/step - loss: 0.4430 - val_loss: 0.4317\n",
            "Epoch 9/50\n",
            "503/503 [==============================] - 1s 2ms/step - loss: 0.4416 - val_loss: 0.4335\n",
            "Epoch 10/50\n",
            "503/503 [==============================] - 1s 2ms/step - loss: 0.4394 - val_loss: 0.4330\n",
            "Epoch 11/50\n",
            "503/503 [==============================] - 1s 2ms/step - loss: 0.4394 - val_loss: 0.4333\n",
            "Epoch 12/50\n",
            "503/503 [==============================] - 1s 2ms/step - loss: 0.4398 - val_loss: 0.4317\n",
            "Epoch 13/50\n",
            "503/503 [==============================] - 1s 2ms/step - loss: 0.4387 - val_loss: 0.4334\n",
            "Epoch 14/50\n",
            "503/503 [==============================] - 1s 3ms/step - loss: 0.4381 - val_loss: 0.4328\n",
            "Epoch 15/50\n",
            "503/503 [==============================] - 1s 2ms/step - loss: 0.4375 - val_loss: 0.4321\n",
            "Epoch 16/50\n",
            "503/503 [==============================] - 1s 3ms/step - loss: 0.4372 - val_loss: 0.4328\n",
            "Epoch 17/50\n",
            "503/503 [==============================] - 2s 3ms/step - loss: 0.4376 - val_loss: 0.4315\n",
            "Epoch 18/50\n",
            "503/503 [==============================] - 1s 2ms/step - loss: 0.4357 - val_loss: 0.4318\n",
            "Epoch 19/50\n",
            "503/503 [==============================] - 1s 2ms/step - loss: 0.4369 - val_loss: 0.4312\n",
            "Epoch 20/50\n",
            "503/503 [==============================] - 1s 2ms/step - loss: 0.4376 - val_loss: 0.4314\n",
            "Epoch 21/50\n",
            "503/503 [==============================] - 1s 2ms/step - loss: 0.4364 - val_loss: 0.4308\n",
            "Epoch 22/50\n",
            "503/503 [==============================] - 1s 2ms/step - loss: 0.4369 - val_loss: 0.4311\n",
            "Epoch 23/50\n",
            "503/503 [==============================] - 1s 2ms/step - loss: 0.4366 - val_loss: 0.4323\n",
            "Epoch 24/50\n",
            "503/503 [==============================] - 1s 2ms/step - loss: 0.4353 - val_loss: 0.4327\n",
            "Epoch 25/50\n",
            "503/503 [==============================] - 1s 3ms/step - loss: 0.4358 - val_loss: 0.4317\n",
            "Epoch 26/50\n",
            "503/503 [==============================] - 1s 2ms/step - loss: 0.4357 - val_loss: 0.4306\n",
            "Epoch 27/50\n",
            "503/503 [==============================] - 2s 3ms/step - loss: 0.4345 - val_loss: 0.4322\n",
            "Epoch 28/50\n",
            "503/503 [==============================] - 1s 3ms/step - loss: 0.4351 - val_loss: 0.4314\n",
            "Epoch 29/50\n",
            "503/503 [==============================] - 1s 2ms/step - loss: 0.4338 - val_loss: 0.4313\n",
            "Epoch 30/50\n",
            "503/503 [==============================] - 1s 2ms/step - loss: 0.4327 - val_loss: 0.4316\n",
            "Epoch 31/50\n",
            "503/503 [==============================] - 1s 2ms/step - loss: 0.4356 - val_loss: 0.4320\n",
            "Epoch 32/50\n",
            "503/503 [==============================] - 2s 5ms/step - loss: 0.4331 - val_loss: 0.4312\n",
            "Epoch 33/50\n",
            "503/503 [==============================] - 3s 5ms/step - loss: 0.4335 - val_loss: 0.4325\n",
            "Epoch 34/50\n",
            "503/503 [==============================] - 2s 5ms/step - loss: 0.4344 - val_loss: 0.4314\n",
            "Epoch 35/50\n",
            "503/503 [==============================] - 3s 6ms/step - loss: 0.4328 - val_loss: 0.4314\n",
            "Epoch 36/50\n",
            "503/503 [==============================] - 2s 4ms/step - loss: 0.4345 - val_loss: 0.4318\n",
            "Epoch 37/50\n",
            "503/503 [==============================] - 2s 4ms/step - loss: 0.4340 - val_loss: 0.4323\n",
            "Epoch 38/50\n",
            "503/503 [==============================] - 2s 5ms/step - loss: 0.4337 - val_loss: 0.4322\n",
            "Epoch 39/50\n",
            "503/503 [==============================] - 2s 5ms/step - loss: 0.4329 - val_loss: 0.4307\n",
            "Epoch 40/50\n",
            "503/503 [==============================] - 2s 4ms/step - loss: 0.4332 - val_loss: 0.4335\n",
            "Epoch 41/50\n",
            "503/503 [==============================] - 2s 3ms/step - loss: 0.4335 - val_loss: 0.4325\n",
            "Epoch 42/50\n",
            "503/503 [==============================] - 1s 2ms/step - loss: 0.4332 - val_loss: 0.4318\n",
            "Epoch 43/50\n",
            "503/503 [==============================] - 1s 2ms/step - loss: 0.4319 - val_loss: 0.4325\n",
            "Epoch 44/50\n",
            "503/503 [==============================] - 1s 2ms/step - loss: 0.4328 - val_loss: 0.4314\n",
            "Epoch 45/50\n",
            "503/503 [==============================] - 1s 2ms/step - loss: 0.4332 - val_loss: 0.4343\n",
            "Epoch 46/50\n",
            "503/503 [==============================] - 1s 2ms/step - loss: 0.4334 - val_loss: 0.4315\n",
            "Epoch 47/50\n",
            "503/503 [==============================] - 1s 2ms/step - loss: 0.4330 - val_loss: 0.4323\n",
            "Epoch 48/50\n",
            "503/503 [==============================] - 1s 3ms/step - loss: 0.4344 - val_loss: 0.4320\n",
            "Epoch 49/50\n",
            "503/503 [==============================] - 2s 3ms/step - loss: 0.4311 - val_loss: 0.4318\n",
            "Epoch 50/50\n",
            "503/503 [==============================] - 2s 4ms/step - loss: 0.4315 - val_loss: 0.4330\n"
          ]
        },
        {
          "output_type": "execute_result",
          "data": {
            "text/plain": [
              "<keras.callbacks.History at 0x7f2337f19f60>"
            ]
          },
          "metadata": {},
          "execution_count": 22
        }
      ]
    },
    {
      "cell_type": "markdown",
      "source": [
        "#Evaluation"
      ],
      "metadata": {
        "id": "3TbCwsHBhdEm"
      }
    },
    {
      "cell_type": "markdown",
      "source": [
        "Let's evaluate the performance of the ANN on the test set and generate a classification report."
      ],
      "metadata": {
        "id": "csV1tSo1hgpX"
      }
    },
    {
      "cell_type": "code",
      "source": [
        "ypred = ann.predict(xtest)\n",
        "ypred = ypred>0.5"
      ],
      "metadata": {
        "colab": {
          "base_uri": "https://localhost:8080/"
        },
        "id": "dgA06_5FuN9r",
        "outputId": "8a0da50e-0854-450e-e79f-0fd1632a36dc"
      },
      "execution_count": 23,
      "outputs": [
        {
          "output_type": "stream",
          "name": "stdout",
          "text": [
            "421/421 [==============================] - 1s 2ms/step\n"
          ]
        }
      ]
    },
    {
      "cell_type": "code",
      "source": [
        "from sklearn.metrics import classification_report\n",
        "print(classification_report(ytest,ypred))"
      ],
      "metadata": {
        "colab": {
          "base_uri": "https://localhost:8080/"
        },
        "id": "P1FEKkzRulMh",
        "outputId": "30ed8261-881c-4515-e343-b22c58794d4a"
      },
      "execution_count": 24,
      "outputs": [
        {
          "output_type": "stream",
          "name": "stdout",
          "text": [
            "              precision    recall  f1-score   support\n",
            "\n",
            "           0       0.93      0.62      0.74      7053\n",
            "           1       0.69      0.95      0.80      6417\n",
            "\n",
            "    accuracy                           0.77     13470\n",
            "   macro avg       0.81      0.78      0.77     13470\n",
            "weighted avg       0.82      0.77      0.77     13470\n",
            "\n"
          ]
        }
      ]
    },
    {
      "cell_type": "markdown",
      "source": [
        "#Model 2:- LogisticRegression"
      ],
      "metadata": {
        "id": "eVGmVluP6PNi"
      }
    },
    {
      "cell_type": "code",
      "source": [
        "# Building The 'LogisticRegression'\n",
        "from sklearn.linear_model import LogisticRegression\n",
        "logreg = LogisticRegression()\n",
        "logreg.fit(xtrain,ytrain)\n",
        "ypred = logreg.predict(xtest)"
      ],
      "metadata": {
        "id": "fjEgC3OKvI3J"
      },
      "execution_count": 25,
      "outputs": []
    },
    {
      "cell_type": "markdown",
      "source": [
        "#Evaluation"
      ],
      "metadata": {
        "id": "H1_NgznUhmUp"
      }
    },
    {
      "cell_type": "markdown",
      "source": [
        "Let's evaluate the performance of the LogisticRegression on the test set and generate a classification report."
      ],
      "metadata": {
        "id": "CHQFF5QZhrGD"
      }
    },
    {
      "cell_type": "code",
      "source": [
        "from sklearn.metrics import classification_report\n",
        "print(classification_report(ytest,ypred))"
      ],
      "metadata": {
        "colab": {
          "base_uri": "https://localhost:8080/"
        },
        "id": "GTc_LG2dvZpv",
        "outputId": "e0e6d520-57f6-48e3-cf85-8b0a972f6365"
      },
      "execution_count": 26,
      "outputs": [
        {
          "output_type": "stream",
          "name": "stdout",
          "text": [
            "              precision    recall  f1-score   support\n",
            "\n",
            "           0       0.93      0.61      0.74      7053\n",
            "           1       0.69      0.95      0.80      6417\n",
            "\n",
            "    accuracy                           0.77     13470\n",
            "   macro avg       0.81      0.78      0.77     13470\n",
            "weighted avg       0.82      0.77      0.77     13470\n",
            "\n"
          ]
        }
      ]
    },
    {
      "cell_type": "markdown",
      "source": [],
      "metadata": {
        "id": "7BMAsiu7lBpl"
      }
    },
    {
      "cell_type": "code",
      "source": [
        "df.head()"
      ],
      "metadata": {
        "id": "fIZm6DB7vdWk",
        "colab": {
          "base_uri": "https://localhost:8080/",
          "height": 336
        },
        "outputId": "8f5cf2a9-c196-4a68-9aa3-8767a458108f"
      },
      "execution_count": 27,
      "outputs": [
        {
          "output_type": "execute_result",
          "data": {
            "text/plain": [
              "                                               title  \\\n",
              "0   Donald Trump Sends Out Embarrassing New Year’...   \n",
              "1   Drunk Bragging Trump Staffer Started Russian ...   \n",
              "2   Sheriff David Clarke Becomes An Internet Joke...   \n",
              "3   Trump Is So Obsessed He Even Has Obama’s Name...   \n",
              "4   Pope Francis Just Called Out Donald Trump Dur...   \n",
              "\n",
              "                                                text  label  \\\n",
              "0  Donald Trump just couldn t wish all Americans ...      0   \n",
              "1  House Intelligence Committee Chairman Devin Nu...      0   \n",
              "2  On Friday, it was revealed that former Milwauk...      0   \n",
              "3  On Christmas day, Donald Trump announced that ...      0   \n",
              "4  Pope Francis used his annual Christmas Day mes...      0   \n",
              "\n",
              "                                           clean_msg  \n",
              "0  donald trump sends embarrassing new year eve m...  \n",
              "1  drunk bragging trump staffer started russian c...  \n",
              "2  sheriff david clarke becomes internet joke thr...  \n",
              "3  trump obsessed even obama name coded website i...  \n",
              "4  pope francis called donald trump christmas speech  "
            ],
            "text/html": [
              "\n",
              "  <div id=\"df-85c452cb-c350-4da8-90a8-7b7eec2ac0d1\">\n",
              "    <div class=\"colab-df-container\">\n",
              "      <div>\n",
              "<style scoped>\n",
              "    .dataframe tbody tr th:only-of-type {\n",
              "        vertical-align: middle;\n",
              "    }\n",
              "\n",
              "    .dataframe tbody tr th {\n",
              "        vertical-align: top;\n",
              "    }\n",
              "\n",
              "    .dataframe thead th {\n",
              "        text-align: right;\n",
              "    }\n",
              "</style>\n",
              "<table border=\"1\" class=\"dataframe\">\n",
              "  <thead>\n",
              "    <tr style=\"text-align: right;\">\n",
              "      <th></th>\n",
              "      <th>title</th>\n",
              "      <th>text</th>\n",
              "      <th>label</th>\n",
              "      <th>clean_msg</th>\n",
              "    </tr>\n",
              "  </thead>\n",
              "  <tbody>\n",
              "    <tr>\n",
              "      <th>0</th>\n",
              "      <td>Donald Trump Sends Out Embarrassing New Year’...</td>\n",
              "      <td>Donald Trump just couldn t wish all Americans ...</td>\n",
              "      <td>0</td>\n",
              "      <td>donald trump sends embarrassing new year eve m...</td>\n",
              "    </tr>\n",
              "    <tr>\n",
              "      <th>1</th>\n",
              "      <td>Drunk Bragging Trump Staffer Started Russian ...</td>\n",
              "      <td>House Intelligence Committee Chairman Devin Nu...</td>\n",
              "      <td>0</td>\n",
              "      <td>drunk bragging trump staffer started russian c...</td>\n",
              "    </tr>\n",
              "    <tr>\n",
              "      <th>2</th>\n",
              "      <td>Sheriff David Clarke Becomes An Internet Joke...</td>\n",
              "      <td>On Friday, it was revealed that former Milwauk...</td>\n",
              "      <td>0</td>\n",
              "      <td>sheriff david clarke becomes internet joke thr...</td>\n",
              "    </tr>\n",
              "    <tr>\n",
              "      <th>3</th>\n",
              "      <td>Trump Is So Obsessed He Even Has Obama’s Name...</td>\n",
              "      <td>On Christmas day, Donald Trump announced that ...</td>\n",
              "      <td>0</td>\n",
              "      <td>trump obsessed even obama name coded website i...</td>\n",
              "    </tr>\n",
              "    <tr>\n",
              "      <th>4</th>\n",
              "      <td>Pope Francis Just Called Out Donald Trump Dur...</td>\n",
              "      <td>Pope Francis used his annual Christmas Day mes...</td>\n",
              "      <td>0</td>\n",
              "      <td>pope francis called donald trump christmas speech</td>\n",
              "    </tr>\n",
              "  </tbody>\n",
              "</table>\n",
              "</div>\n",
              "      <button class=\"colab-df-convert\" onclick=\"convertToInteractive('df-85c452cb-c350-4da8-90a8-7b7eec2ac0d1')\"\n",
              "              title=\"Convert this dataframe to an interactive table.\"\n",
              "              style=\"display:none;\">\n",
              "        \n",
              "  <svg xmlns=\"http://www.w3.org/2000/svg\" height=\"24px\"viewBox=\"0 0 24 24\"\n",
              "       width=\"24px\">\n",
              "    <path d=\"M0 0h24v24H0V0z\" fill=\"none\"/>\n",
              "    <path d=\"M18.56 5.44l.94 2.06.94-2.06 2.06-.94-2.06-.94-.94-2.06-.94 2.06-2.06.94zm-11 1L8.5 8.5l.94-2.06 2.06-.94-2.06-.94L8.5 2.5l-.94 2.06-2.06.94zm10 10l.94 2.06.94-2.06 2.06-.94-2.06-.94-.94-2.06-.94 2.06-2.06.94z\"/><path d=\"M17.41 7.96l-1.37-1.37c-.4-.4-.92-.59-1.43-.59-.52 0-1.04.2-1.43.59L10.3 9.45l-7.72 7.72c-.78.78-.78 2.05 0 2.83L4 21.41c.39.39.9.59 1.41.59.51 0 1.02-.2 1.41-.59l7.78-7.78 2.81-2.81c.8-.78.8-2.07 0-2.86zM5.41 20L4 18.59l7.72-7.72 1.47 1.35L5.41 20z\"/>\n",
              "  </svg>\n",
              "      </button>\n",
              "      \n",
              "  <style>\n",
              "    .colab-df-container {\n",
              "      display:flex;\n",
              "      flex-wrap:wrap;\n",
              "      gap: 12px;\n",
              "    }\n",
              "\n",
              "    .colab-df-convert {\n",
              "      background-color: #E8F0FE;\n",
              "      border: none;\n",
              "      border-radius: 50%;\n",
              "      cursor: pointer;\n",
              "      display: none;\n",
              "      fill: #1967D2;\n",
              "      height: 32px;\n",
              "      padding: 0 0 0 0;\n",
              "      width: 32px;\n",
              "    }\n",
              "\n",
              "    .colab-df-convert:hover {\n",
              "      background-color: #E2EBFA;\n",
              "      box-shadow: 0px 1px 2px rgba(60, 64, 67, 0.3), 0px 1px 3px 1px rgba(60, 64, 67, 0.15);\n",
              "      fill: #174EA6;\n",
              "    }\n",
              "\n",
              "    [theme=dark] .colab-df-convert {\n",
              "      background-color: #3B4455;\n",
              "      fill: #D2E3FC;\n",
              "    }\n",
              "\n",
              "    [theme=dark] .colab-df-convert:hover {\n",
              "      background-color: #434B5C;\n",
              "      box-shadow: 0px 1px 3px 1px rgba(0, 0, 0, 0.15);\n",
              "      filter: drop-shadow(0px 1px 2px rgba(0, 0, 0, 0.3));\n",
              "      fill: #FFFFFF;\n",
              "    }\n",
              "  </style>\n",
              "\n",
              "      <script>\n",
              "        const buttonEl =\n",
              "          document.querySelector('#df-85c452cb-c350-4da8-90a8-7b7eec2ac0d1 button.colab-df-convert');\n",
              "        buttonEl.style.display =\n",
              "          google.colab.kernel.accessAllowed ? 'block' : 'none';\n",
              "\n",
              "        async function convertToInteractive(key) {\n",
              "          const element = document.querySelector('#df-85c452cb-c350-4da8-90a8-7b7eec2ac0d1');\n",
              "          const dataTable =\n",
              "            await google.colab.kernel.invokeFunction('convertToInteractive',\n",
              "                                                     [key], {});\n",
              "          if (!dataTable) return;\n",
              "\n",
              "          const docLinkHtml = 'Like what you see? Visit the ' +\n",
              "            '<a target=\"_blank\" href=https://colab.research.google.com/notebooks/data_table.ipynb>data table notebook</a>'\n",
              "            + ' to learn more about interactive tables.';\n",
              "          element.innerHTML = '';\n",
              "          dataTable['output_type'] = 'display_data';\n",
              "          await google.colab.output.renderOutput(dataTable, element);\n",
              "          const docLink = document.createElement('div');\n",
              "          docLink.innerHTML = docLinkHtml;\n",
              "          element.appendChild(docLink);\n",
              "        }\n",
              "      </script>\n",
              "    </div>\n",
              "  </div>\n",
              "  "
            ]
          },
          "metadata": {},
          "execution_count": 27
        }
      ]
    },
    {
      "cell_type": "code",
      "source": [
        "#spliting data into x and y\n",
        "x = df['clean_msg']\n",
        "y = df['label']"
      ],
      "metadata": {
        "id": "d35JQIgJoty9"
      },
      "execution_count": 28,
      "outputs": []
    },
    {
      "cell_type": "code",
      "source": [
        "from sklearn.model_selection import train_test_split\n",
        "xtrain,xtest,ytrain,ytest = train_test_split(x,y,test_size=0.30,random_state=1)"
      ],
      "metadata": {
        "id": "diG6oZxBo0R3"
      },
      "execution_count": 29,
      "outputs": []
    },
    {
      "cell_type": "code",
      "source": [
        "sentlen = []\n",
        "for i in df['clean_msg']:\n",
        "  sentlen.append(len(word_tokenize(i)))\n",
        "\n",
        "df['Sentlen'] = sentlen"
      ],
      "metadata": {
        "id": "sg3Xt7E3pIe8"
      },
      "execution_count": 30,
      "outputs": []
    },
    {
      "cell_type": "code",
      "source": [
        "df.head()"
      ],
      "metadata": {
        "colab": {
          "base_uri": "https://localhost:8080/",
          "height": 336
        },
        "id": "v_qHXD-Lpa_Y",
        "outputId": "2817dd32-9b01-4cbe-afc6-d8f9f9ecd7cd"
      },
      "execution_count": 31,
      "outputs": [
        {
          "output_type": "execute_result",
          "data": {
            "text/plain": [
              "                                               title  \\\n",
              "0   Donald Trump Sends Out Embarrassing New Year’...   \n",
              "1   Drunk Bragging Trump Staffer Started Russian ...   \n",
              "2   Sheriff David Clarke Becomes An Internet Joke...   \n",
              "3   Trump Is So Obsessed He Even Has Obama’s Name...   \n",
              "4   Pope Francis Just Called Out Donald Trump Dur...   \n",
              "\n",
              "                                                text  label  \\\n",
              "0  Donald Trump just couldn t wish all Americans ...      0   \n",
              "1  House Intelligence Committee Chairman Devin Nu...      0   \n",
              "2  On Friday, it was revealed that former Milwauk...      0   \n",
              "3  On Christmas day, Donald Trump announced that ...      0   \n",
              "4  Pope Francis used his annual Christmas Day mes...      0   \n",
              "\n",
              "                                           clean_msg  Sentlen  \n",
              "0  donald trump sends embarrassing new year eve m...        9  \n",
              "1  drunk bragging trump staffer started russian c...        8  \n",
              "2  sheriff david clarke becomes internet joke thr...       10  \n",
              "3  trump obsessed even obama name coded website i...        8  \n",
              "4  pope francis called donald trump christmas speech        7  "
            ],
            "text/html": [
              "\n",
              "  <div id=\"df-23b214c6-0755-4736-a0df-5f21422873e2\">\n",
              "    <div class=\"colab-df-container\">\n",
              "      <div>\n",
              "<style scoped>\n",
              "    .dataframe tbody tr th:only-of-type {\n",
              "        vertical-align: middle;\n",
              "    }\n",
              "\n",
              "    .dataframe tbody tr th {\n",
              "        vertical-align: top;\n",
              "    }\n",
              "\n",
              "    .dataframe thead th {\n",
              "        text-align: right;\n",
              "    }\n",
              "</style>\n",
              "<table border=\"1\" class=\"dataframe\">\n",
              "  <thead>\n",
              "    <tr style=\"text-align: right;\">\n",
              "      <th></th>\n",
              "      <th>title</th>\n",
              "      <th>text</th>\n",
              "      <th>label</th>\n",
              "      <th>clean_msg</th>\n",
              "      <th>Sentlen</th>\n",
              "    </tr>\n",
              "  </thead>\n",
              "  <tbody>\n",
              "    <tr>\n",
              "      <th>0</th>\n",
              "      <td>Donald Trump Sends Out Embarrassing New Year’...</td>\n",
              "      <td>Donald Trump just couldn t wish all Americans ...</td>\n",
              "      <td>0</td>\n",
              "      <td>donald trump sends embarrassing new year eve m...</td>\n",
              "      <td>9</td>\n",
              "    </tr>\n",
              "    <tr>\n",
              "      <th>1</th>\n",
              "      <td>Drunk Bragging Trump Staffer Started Russian ...</td>\n",
              "      <td>House Intelligence Committee Chairman Devin Nu...</td>\n",
              "      <td>0</td>\n",
              "      <td>drunk bragging trump staffer started russian c...</td>\n",
              "      <td>8</td>\n",
              "    </tr>\n",
              "    <tr>\n",
              "      <th>2</th>\n",
              "      <td>Sheriff David Clarke Becomes An Internet Joke...</td>\n",
              "      <td>On Friday, it was revealed that former Milwauk...</td>\n",
              "      <td>0</td>\n",
              "      <td>sheriff david clarke becomes internet joke thr...</td>\n",
              "      <td>10</td>\n",
              "    </tr>\n",
              "    <tr>\n",
              "      <th>3</th>\n",
              "      <td>Trump Is So Obsessed He Even Has Obama’s Name...</td>\n",
              "      <td>On Christmas day, Donald Trump announced that ...</td>\n",
              "      <td>0</td>\n",
              "      <td>trump obsessed even obama name coded website i...</td>\n",
              "      <td>8</td>\n",
              "    </tr>\n",
              "    <tr>\n",
              "      <th>4</th>\n",
              "      <td>Pope Francis Just Called Out Donald Trump Dur...</td>\n",
              "      <td>Pope Francis used his annual Christmas Day mes...</td>\n",
              "      <td>0</td>\n",
              "      <td>pope francis called donald trump christmas speech</td>\n",
              "      <td>7</td>\n",
              "    </tr>\n",
              "  </tbody>\n",
              "</table>\n",
              "</div>\n",
              "      <button class=\"colab-df-convert\" onclick=\"convertToInteractive('df-23b214c6-0755-4736-a0df-5f21422873e2')\"\n",
              "              title=\"Convert this dataframe to an interactive table.\"\n",
              "              style=\"display:none;\">\n",
              "        \n",
              "  <svg xmlns=\"http://www.w3.org/2000/svg\" height=\"24px\"viewBox=\"0 0 24 24\"\n",
              "       width=\"24px\">\n",
              "    <path d=\"M0 0h24v24H0V0z\" fill=\"none\"/>\n",
              "    <path d=\"M18.56 5.44l.94 2.06.94-2.06 2.06-.94-2.06-.94-.94-2.06-.94 2.06-2.06.94zm-11 1L8.5 8.5l.94-2.06 2.06-.94-2.06-.94L8.5 2.5l-.94 2.06-2.06.94zm10 10l.94 2.06.94-2.06 2.06-.94-2.06-.94-.94-2.06-.94 2.06-2.06.94z\"/><path d=\"M17.41 7.96l-1.37-1.37c-.4-.4-.92-.59-1.43-.59-.52 0-1.04.2-1.43.59L10.3 9.45l-7.72 7.72c-.78.78-.78 2.05 0 2.83L4 21.41c.39.39.9.59 1.41.59.51 0 1.02-.2 1.41-.59l7.78-7.78 2.81-2.81c.8-.78.8-2.07 0-2.86zM5.41 20L4 18.59l7.72-7.72 1.47 1.35L5.41 20z\"/>\n",
              "  </svg>\n",
              "      </button>\n",
              "      \n",
              "  <style>\n",
              "    .colab-df-container {\n",
              "      display:flex;\n",
              "      flex-wrap:wrap;\n",
              "      gap: 12px;\n",
              "    }\n",
              "\n",
              "    .colab-df-convert {\n",
              "      background-color: #E8F0FE;\n",
              "      border: none;\n",
              "      border-radius: 50%;\n",
              "      cursor: pointer;\n",
              "      display: none;\n",
              "      fill: #1967D2;\n",
              "      height: 32px;\n",
              "      padding: 0 0 0 0;\n",
              "      width: 32px;\n",
              "    }\n",
              "\n",
              "    .colab-df-convert:hover {\n",
              "      background-color: #E2EBFA;\n",
              "      box-shadow: 0px 1px 2px rgba(60, 64, 67, 0.3), 0px 1px 3px 1px rgba(60, 64, 67, 0.15);\n",
              "      fill: #174EA6;\n",
              "    }\n",
              "\n",
              "    [theme=dark] .colab-df-convert {\n",
              "      background-color: #3B4455;\n",
              "      fill: #D2E3FC;\n",
              "    }\n",
              "\n",
              "    [theme=dark] .colab-df-convert:hover {\n",
              "      background-color: #434B5C;\n",
              "      box-shadow: 0px 1px 3px 1px rgba(0, 0, 0, 0.15);\n",
              "      filter: drop-shadow(0px 1px 2px rgba(0, 0, 0, 0.3));\n",
              "      fill: #FFFFFF;\n",
              "    }\n",
              "  </style>\n",
              "\n",
              "      <script>\n",
              "        const buttonEl =\n",
              "          document.querySelector('#df-23b214c6-0755-4736-a0df-5f21422873e2 button.colab-df-convert');\n",
              "        buttonEl.style.display =\n",
              "          google.colab.kernel.accessAllowed ? 'block' : 'none';\n",
              "\n",
              "        async function convertToInteractive(key) {\n",
              "          const element = document.querySelector('#df-23b214c6-0755-4736-a0df-5f21422873e2');\n",
              "          const dataTable =\n",
              "            await google.colab.kernel.invokeFunction('convertToInteractive',\n",
              "                                                     [key], {});\n",
              "          if (!dataTable) return;\n",
              "\n",
              "          const docLinkHtml = 'Like what you see? Visit the ' +\n",
              "            '<a target=\"_blank\" href=https://colab.research.google.com/notebooks/data_table.ipynb>data table notebook</a>'\n",
              "            + ' to learn more about interactive tables.';\n",
              "          element.innerHTML = '';\n",
              "          dataTable['output_type'] = 'display_data';\n",
              "          await google.colab.output.renderOutput(dataTable, element);\n",
              "          const docLink = document.createElement('div');\n",
              "          docLink.innerHTML = docLinkHtml;\n",
              "          element.appendChild(docLink);\n",
              "        }\n",
              "      </script>\n",
              "    </div>\n",
              "  </div>\n",
              "  "
            ]
          },
          "metadata": {},
          "execution_count": 31
        }
      ]
    },
    {
      "cell_type": "code",
      "source": [
        "max(sentlen)"
      ],
      "metadata": {
        "colab": {
          "base_uri": "https://localhost:8080/"
        },
        "id": "-9j3Of7Vpb2g",
        "outputId": "f8ee2cae-786d-46a9-b499-00f084bea048"
      },
      "execution_count": 32,
      "outputs": [
        {
          "output_type": "execute_result",
          "data": {
            "text/plain": [
              "26"
            ]
          },
          "metadata": {},
          "execution_count": 32
        }
      ]
    },
    {
      "cell_type": "code",
      "source": [
        "min(sentlen)"
      ],
      "metadata": {
        "colab": {
          "base_uri": "https://localhost:8080/"
        },
        "id": "ACB0cf_wphrF",
        "outputId": "ed823049-70a3-4aa0-cd4c-67dd3ea09e56"
      },
      "execution_count": 33,
      "outputs": [
        {
          "output_type": "execute_result",
          "data": {
            "text/plain": [
              "1"
            ]
          },
          "metadata": {},
          "execution_count": 33
        }
      ]
    },
    {
      "cell_type": "code",
      "source": [
        "np.quantile(sentlen,0.90)"
      ],
      "metadata": {
        "colab": {
          "base_uri": "https://localhost:8080/"
        },
        "id": "fhXEI_napjdM",
        "outputId": "78d53917-fdc0-4b41-97ef-9ac8d6bc921d"
      },
      "execution_count": 34,
      "outputs": [
        {
          "output_type": "execute_result",
          "data": {
            "text/plain": [
              "12.0"
            ]
          },
          "metadata": {},
          "execution_count": 34
        }
      ]
    },
    {
      "cell_type": "code",
      "source": [
        "max_len = np.quantile(sentlen,0.90)"
      ],
      "metadata": {
        "id": "NV8PocaMpq5D"
      },
      "execution_count": 35,
      "outputs": []
    },
    {
      "cell_type": "code",
      "source": [
        "tok = Tokenizer(char_level=False,split=' ')\n",
        "tok.fit_on_texts(xtrain)\n",
        "tok.index_word"
      ],
      "metadata": {
        "colab": {
          "base_uri": "https://localhost:8080/"
        },
        "id": "KDRLRwU7py24",
        "outputId": "2d932b09-f016-4894-86d6-4fb502f8fe30"
      },
      "execution_count": 36,
      "outputs": [
        {
          "output_type": "execute_result",
          "data": {
            "text/plain": [
              "{1: 'trump',\n",
              " 2: 'video',\n",
              " 3: 'say',\n",
              " 4: 'obama',\n",
              " 5: 'hillary',\n",
              " 6: 'house',\n",
              " 7: 'watch',\n",
              " 8: 'republican',\n",
              " 9: 'new',\n",
              " 10: 'clinton',\n",
              " 11: 'white',\n",
              " 12: 'president',\n",
              " 13: 'state',\n",
              " 14: 'bill',\n",
              " 15: 'russia',\n",
              " 16: 'democrat',\n",
              " 17: 'call',\n",
              " 18: 'get',\n",
              " 19: 'north',\n",
              " 20: 'election',\n",
              " 21: 'vote',\n",
              " 22: 'court',\n",
              " 23: 'news',\n",
              " 24: 'black',\n",
              " 25: 'korea',\n",
              " 26: 'tweet',\n",
              " 27: 'attack',\n",
              " 28: 'breaking',\n",
              " 29: 'muslim',\n",
              " 30: 'make',\n",
              " 31: 'donald',\n",
              " 32: 'senate',\n",
              " 33: 'medium',\n",
              " 34: 'tax',\n",
              " 35: 'china',\n",
              " 36: 'woman',\n",
              " 37: 'gop',\n",
              " 38: 'plan',\n",
              " 39: 'leader',\n",
              " 40: 'american',\n",
              " 41: 'want',\n",
              " 42: 'police',\n",
              " 43: 'campaign',\n",
              " 44: 'show',\n",
              " 45: 'deal',\n",
              " 46: 'senator',\n",
              " 47: 'back',\n",
              " 48: 'may',\n",
              " 49: 'go',\n",
              " 50: 'official',\n",
              " 51: 'iran',\n",
              " 52: 'russian',\n",
              " 53: 'one',\n",
              " 54: 'america',\n",
              " 55: 'supporter',\n",
              " 56: 'party',\n",
              " 57: 'law',\n",
              " 58: 'tell',\n",
              " 59: 'right',\n",
              " 60: 'talk',\n",
              " 61: 'u',\n",
              " 62: 'take',\n",
              " 63: 'people',\n",
              " 64: 'government',\n",
              " 65: 'eu',\n",
              " 66: 'cnn',\n",
              " 67: 'fbi',\n",
              " 68: 'former',\n",
              " 69: 'syria',\n",
              " 70: 'war',\n",
              " 71: 'million',\n",
              " 72: 'chief',\n",
              " 73: 'first',\n",
              " 74: 'time',\n",
              " 75: 'top',\n",
              " 76: 'report',\n",
              " 77: 'minister',\n",
              " 78: 'security',\n",
              " 79: 'speech',\n",
              " 80: 'twitter',\n",
              " 81: 'year',\n",
              " 82: 'give',\n",
              " 83: 'liberal',\n",
              " 84: 'ban',\n",
              " 85: 'conservative',\n",
              " 86: 'congress',\n",
              " 87: 'judge',\n",
              " 88: 'racist',\n",
              " 89: 'win',\n",
              " 90: 'lawmaker',\n",
              " 91: 'probe',\n",
              " 92: 'voter',\n",
              " 93: 'gun',\n",
              " 94: 'fox',\n",
              " 95: 'pm',\n",
              " 96: 'refugee',\n",
              " 97: 'man',\n",
              " 98: 'could',\n",
              " 99: 'border',\n",
              " 100: 'would',\n",
              " 101: 'poll',\n",
              " 102: 'source',\n",
              " 103: 'south',\n",
              " 104: 'day',\n",
              " 105: 'military',\n",
              " 106: 'governor',\n",
              " 107: 'group',\n",
              " 108: 'support',\n",
              " 109: 'claim',\n",
              " 110: 'cop',\n",
              " 111: 'factbox',\n",
              " 112: 'foreign',\n",
              " 113: 'sander',\n",
              " 114: 'rule',\n",
              " 115: 'fake',\n",
              " 116: 'see',\n",
              " 117: 'host',\n",
              " 118: 'cruz',\n",
              " 119: 'email',\n",
              " 120: 'two',\n",
              " 121: 'brexit',\n",
              " 122: 'supreme',\n",
              " 123: 'candidate',\n",
              " 124: 'uk',\n",
              " 125: 'rally',\n",
              " 126: 'terrorist',\n",
              " 127: 'putin',\n",
              " 128: 'meet',\n",
              " 129: 'obamacare',\n",
              " 130: 'nuclear',\n",
              " 131: 'order',\n",
              " 132: 'like',\n",
              " 133: 'seek',\n",
              " 134: 'turkey',\n",
              " 135: 'policy',\n",
              " 136: 'urge',\n",
              " 137: 'presidential',\n",
              " 138: 'force',\n",
              " 139: 'kill',\n",
              " 140: 'meeting',\n",
              " 141: 'healthcare',\n",
              " 142: 'job',\n",
              " 143: 'student',\n",
              " 144: 'sanction',\n",
              " 145: 'fight',\n",
              " 146: 'need',\n",
              " 147: 'protester',\n",
              " 148: 'ryan',\n",
              " 149: 'lie',\n",
              " 150: 'bernie',\n",
              " 151: 'school',\n",
              " 152: 'life',\n",
              " 153: 'help',\n",
              " 154: 'stop',\n",
              " 155: 'visit',\n",
              " 156: 'wow',\n",
              " 157: 'face',\n",
              " 158: 'cut',\n",
              " 159: 'illegal',\n",
              " 160: 'debate',\n",
              " 161: 'mexico',\n",
              " 162: 'death',\n",
              " 163: 'national',\n",
              " 164: 'protest',\n",
              " 165: 'case',\n",
              " 166: 'image',\n",
              " 167: 'end',\n",
              " 168: 'saudi',\n",
              " 169: 'head',\n",
              " 170: 'threat',\n",
              " 171: 'killed',\n",
              " 172: 'political',\n",
              " 173: 'pick',\n",
              " 174: 'world',\n",
              " 175: 'city',\n",
              " 176: 'german',\n",
              " 177: 'islamic',\n",
              " 178: 'response',\n",
              " 179: 'child',\n",
              " 180: 'move',\n",
              " 181: 'change',\n",
              " 182: 'reporter',\n",
              " 183: 'race',\n",
              " 184: 'must',\n",
              " 185: 'justice',\n",
              " 186: 'crisis',\n",
              " 187: 'immigration',\n",
              " 188: 'administration',\n",
              " 189: 'germany',\n",
              " 190: 'family',\n",
              " 191: 'release',\n",
              " 192: 'old',\n",
              " 193: 'climate',\n",
              " 194: 'comey',\n",
              " 195: 'wall',\n",
              " 196: 'department',\n",
              " 197: 'press',\n",
              " 198: 'next',\n",
              " 199: 'open',\n",
              " 200: 'detail',\n",
              " 201: 'defense',\n",
              " 202: 'warns',\n",
              " 203: 'syrian',\n",
              " 204: 'f',\n",
              " 205: 'panel',\n",
              " 206: 'britain',\n",
              " 207: 'myanmar',\n",
              " 208: 'general',\n",
              " 209: 'travel',\n",
              " 210: 'caught',\n",
              " 211: 'budget',\n",
              " 212: 'asks',\n",
              " 213: 'lawyer',\n",
              " 214: 'question',\n",
              " 215: 'trade',\n",
              " 216: 'hit',\n",
              " 217: 'room',\n",
              " 218: 'big',\n",
              " 219: 'tie',\n",
              " 220: 'fire',\n",
              " 221: 'way',\n",
              " 222: 'got',\n",
              " 223: 'reform',\n",
              " 224: 'iraq',\n",
              " 225: 'work',\n",
              " 226: 'post',\n",
              " 227: 'air',\n",
              " 228: 'secret',\n",
              " 229: 'mayor',\n",
              " 230: 'interview',\n",
              " 231: 'ted',\n",
              " 232: 'leftist',\n",
              " 233: 'washington',\n",
              " 234: 'democratic',\n",
              " 235: 'left',\n",
              " 236: 'free',\n",
              " 237: 'opposition',\n",
              " 238: 'going',\n",
              " 239: 'paul',\n",
              " 240: 'country',\n",
              " 241: 'week',\n",
              " 242: 'push',\n",
              " 243: 'put',\n",
              " 244: 'aid',\n",
              " 245: 'money',\n",
              " 246: 'home',\n",
              " 247: 'director',\n",
              " 248: 'france',\n",
              " 249: 'texas',\n",
              " 250: 'john',\n",
              " 251: 'major',\n",
              " 252: 'violence',\n",
              " 253: 'tillerson',\n",
              " 254: 'run',\n",
              " 255: 'keep',\n",
              " 256: 'sign',\n",
              " 257: 'set',\n",
              " 258: 'arrested',\n",
              " 259: 'nominee',\n",
              " 260: 'charge',\n",
              " 261: 'investigation',\n",
              " 262: 'thing',\n",
              " 263: 'hilarious',\n",
              " 264: 'ad',\n",
              " 265: 'business',\n",
              " 266: 'try',\n",
              " 267: 'dead',\n",
              " 268: 'college',\n",
              " 269: 'exclusive',\n",
              " 270: 'still',\n",
              " 271: 'victim',\n",
              " 272: 'member',\n",
              " 273: 'issue',\n",
              " 274: 'federal',\n",
              " 275: 'last',\n",
              " 276: 'secretary',\n",
              " 277: 'activist',\n",
              " 278: 'attorney',\n",
              " 279: 'flag',\n",
              " 280: 'water',\n",
              " 281: 'merkel',\n",
              " 282: 'shocking',\n",
              " 283: 'agency',\n",
              " 284: 'drop',\n",
              " 285: 'korean',\n",
              " 286: 'comment',\n",
              " 287: 'lead',\n",
              " 288: 'blast',\n",
              " 289: 'team',\n",
              " 290: 'think',\n",
              " 291: 'strike',\n",
              " 292: 'reason',\n",
              " 293: 'japan',\n",
              " 294: 'york',\n",
              " 295: 'know',\n",
              " 296: 'billion',\n",
              " 297: 'decision',\n",
              " 298: 'huge',\n",
              " 299: 'live',\n",
              " 300: 'made',\n",
              " 301: 'kid',\n",
              " 302: 'truth',\n",
              " 303: 'speaker',\n",
              " 304: 'really',\n",
              " 305: 'arrest',\n",
              " 306: 'hate',\n",
              " 307: 'ahead',\n",
              " 308: 'aide',\n",
              " 309: 'office',\n",
              " 310: 'never',\n",
              " 311: 'pay',\n",
              " 312: 'story',\n",
              " 313: 'hope',\n",
              " 314: 'florida',\n",
              " 315: 'isi',\n",
              " 316: 'shooting',\n",
              " 317: 'missile',\n",
              " 318: 'discus',\n",
              " 319: 'another',\n",
              " 320: 'son',\n",
              " 321: 'told',\n",
              " 322: 'bomb',\n",
              " 323: 'penny',\n",
              " 324: 'break',\n",
              " 325: 'puerto',\n",
              " 326: 'health',\n",
              " 327: 'use',\n",
              " 328: 'jerusalem',\n",
              " 329: 'demand',\n",
              " 330: 'terror',\n",
              " 331: 'threatens',\n",
              " 332: 'street',\n",
              " 333: 'dnc',\n",
              " 334: 'matter',\n",
              " 335: 'adviser',\n",
              " 336: 'presidency',\n",
              " 337: 'army',\n",
              " 338: 'power',\n",
              " 339: 'worker',\n",
              " 340: 'tv',\n",
              " 341: 'look',\n",
              " 342: 'message',\n",
              " 343: 'offer',\n",
              " 344: 'alien',\n",
              " 345: 'control',\n",
              " 346: 'israel',\n",
              " 347: 'coalition',\n",
              " 348: 'action',\n",
              " 349: 'effort',\n",
              " 350: 'blame',\n",
              " 351: 'said',\n",
              " 352: 'social',\n",
              " 353: 'name',\n",
              " 354: 'rico',\n",
              " 355: 'turn',\n",
              " 356: 'list',\n",
              " 357: 'return',\n",
              " 358: 'great',\n",
              " 359: 'key',\n",
              " 360: 'statement',\n",
              " 361: 'girl',\n",
              " 362: 'peace',\n",
              " 363: 'shot',\n",
              " 364: 'lol',\n",
              " 365: 'sexual',\n",
              " 366: 'boiler',\n",
              " 367: 'fund',\n",
              " 368: 'immigrant',\n",
              " 369: 'come',\n",
              " 370: 'philippine',\n",
              " 371: 'destroys',\n",
              " 372: 'catalan',\n",
              " 373: 'behind',\n",
              " 374: 'fraud',\n",
              " 375: 'latest',\n",
              " 376: 'away',\n",
              " 377: 'voting',\n",
              " 378: 'facebook',\n",
              " 379: 'let',\n",
              " 380: 'target',\n",
              " 381: 'high',\n",
              " 382: 'migrant',\n",
              " 383: 'slam',\n",
              " 384: 'even',\n",
              " 385: 'george',\n",
              " 386: 'fed',\n",
              " 387: 'start',\n",
              " 388: 'funding',\n",
              " 389: 'boom',\n",
              " 390: 'service',\n",
              " 391: 'citizen',\n",
              " 392: 'radical',\n",
              " 393: 'hold',\n",
              " 394: 'mccain',\n",
              " 395: 'amid',\n",
              " 396: 'session',\n",
              " 397: 'ruling',\n",
              " 398: 'zimbabwe',\n",
              " 399: 'christian',\n",
              " 400: 'rohingya',\n",
              " 401: 'bid',\n",
              " 402: 'found',\n",
              " 403: 'join',\n",
              " 404: 'chair',\n",
              " 405: 'legal',\n",
              " 406: 'act',\n",
              " 407: 'busted',\n",
              " 408: 'nfl',\n",
              " 409: 'word',\n",
              " 410: 'expose',\n",
              " 411: 'fan',\n",
              " 412: 'wife',\n",
              " 413: 'msnbc',\n",
              " 414: 'bank',\n",
              " 415: 'assault',\n",
              " 416: 'ever',\n",
              " 417: 'test',\n",
              " 418: 'find',\n",
              " 419: 'ready',\n",
              " 420: 'bush',\n",
              " 421: 'nation',\n",
              " 422: 'public',\n",
              " 423: 'real',\n",
              " 424: 'rape',\n",
              " 425: 'trying',\n",
              " 426: 'flynn',\n",
              " 427: 'asked',\n",
              " 428: 'rip',\n",
              " 429: 'king',\n",
              " 430: 'executive',\n",
              " 431: 'fired',\n",
              " 432: 'block',\n",
              " 433: 'london',\n",
              " 434: 'macron',\n",
              " 435: 'repeal',\n",
              " 436: 'refuse',\n",
              " 437: 'vow',\n",
              " 438: 'british',\n",
              " 439: 'step',\n",
              " 440: 'cia',\n",
              " 441: 'defends',\n",
              " 442: 'intelligence',\n",
              " 443: 'independence',\n",
              " 444: 'ep',\n",
              " 445: 'bombshell',\n",
              " 446: 'best',\n",
              " 447: 'called',\n",
              " 448: 'cuba',\n",
              " 449: 'parliament',\n",
              " 450: 'company',\n",
              " 451: 'journalist',\n",
              " 452: 'despite',\n",
              " 453: 'iraqi',\n",
              " 454: 'used',\n",
              " 455: 'hand',\n",
              " 456: 'reject',\n",
              " 457: 'ally',\n",
              " 458: 'internet',\n",
              " 459: 'possible',\n",
              " 460: 'militant',\n",
              " 461: 'hurricane',\n",
              " 462: 'photo',\n",
              " 463: 'three',\n",
              " 464: 'stand',\n",
              " 465: 'near',\n",
              " 466: 'special',\n",
              " 467: 'full',\n",
              " 468: 'chicago',\n",
              " 469: 'canada',\n",
              " 470: 'shut',\n",
              " 471: 'scandal',\n",
              " 472: 'veteran',\n",
              " 473: 'firm',\n",
              " 474: 'leave',\n",
              " 475: 'california',\n",
              " 476: 'likely',\n",
              " 477: 'challenge',\n",
              " 478: 'believe',\n",
              " 479: 'owner',\n",
              " 480: 'friend',\n",
              " 481: 'congressman',\n",
              " 482: 'every',\n",
              " 483: 'month',\n",
              " 484: 'wikileaks',\n",
              " 485: 'venezuela',\n",
              " 486: 'senior',\n",
              " 487: 'appeal',\n",
              " 488: 'benghazi',\n",
              " 489: 'crime',\n",
              " 490: 'biden',\n",
              " 491: 'corruption',\n",
              " 492: 'officer',\n",
              " 493: 'gay',\n",
              " 494: 'bad',\n",
              " 495: 'part',\n",
              " 496: 'record',\n",
              " 497: 'hack',\n",
              " 498: 'taxpayer',\n",
              " 499: 'trip',\n",
              " 500: 'good',\n",
              " 501: 'arm',\n",
              " 502: 'march',\n",
              " 503: 'debt',\n",
              " 504: 'soldier',\n",
              " 505: 'warren',\n",
              " 506: 'abortion',\n",
              " 507: 'sarah',\n",
              " 508: 'jail',\n",
              " 509: 'inauguration',\n",
              " 510: 'guy',\n",
              " 511: 'massive',\n",
              " 512: 'using',\n",
              " 513: 'lying',\n",
              " 514: 'ck',\n",
              " 515: 'hollywood',\n",
              " 516: 'french',\n",
              " 517: 'joe',\n",
              " 518: 'raise',\n",
              " 519: 'turkish',\n",
              " 520: 'envoy',\n",
              " 521: 'answer',\n",
              " 522: 'michelle',\n",
              " 523: 'evidence',\n",
              " 524: 'fear',\n",
              " 525: 'sean',\n",
              " 526: 'nyc',\n",
              " 527: 'agent',\n",
              " 528: 'angry',\n",
              " 529: 'murder',\n",
              " 530: 'troop',\n",
              " 531: 'line',\n",
              " 532: 'crowd',\n",
              " 533: 'yemen',\n",
              " 534: 'eye',\n",
              " 535: 'rubio',\n",
              " 536: 'ceo',\n",
              " 537: 'dem',\n",
              " 538: 'making',\n",
              " 539: 'pelosi',\n",
              " 540: 'review',\n",
              " 541: 'doj',\n",
              " 542: 'prosecutor',\n",
              " 543: 'transgender',\n",
              " 544: 'xi',\n",
              " 545: 'promise',\n",
              " 546: 'calling',\n",
              " 547: 'close',\n",
              " 548: 'pope',\n",
              " 549: 'yet',\n",
              " 550: 'brutal',\n",
              " 551: 'ivanka',\n",
              " 552: 'moore',\n",
              " 553: 'mike',\n",
              " 554: 'battle',\n",
              " 555: 'killing',\n",
              " 556: 'destroy',\n",
              " 557: 'female',\n",
              " 558: 'paris',\n",
              " 559: 'young',\n",
              " 560: 'view',\n",
              " 561: 'men',\n",
              " 562: 'second',\n",
              " 563: 'committee',\n",
              " 564: 'lebanon',\n",
              " 565: 'violent',\n",
              " 566: 'reveals',\n",
              " 567: 'town',\n",
              " 568: 'point',\n",
              " 569: 'attempt',\n",
              " 570: 'saying',\n",
              " 571: 'released',\n",
              " 572: 'conway',\n",
              " 573: 'admits',\n",
              " 574: 'working',\n",
              " 575: 'play',\n",
              " 576: 'running',\n",
              " 577: 'night',\n",
              " 578: 'history',\n",
              " 579: 'number',\n",
              " 580: 'prof',\n",
              " 581: 'care',\n",
              " 582: 'east',\n",
              " 583: 'oil',\n",
              " 584: 'kremlin',\n",
              " 585: 'hard',\n",
              " 586: 'epic',\n",
              " 587: 'disgusting',\n",
              " 588: 'blow',\n",
              " 589: 'final',\n",
              " 590: 'awesome',\n",
              " 591: 'thousand',\n",
              " 592: 'car',\n",
              " 593: 'victory',\n",
              " 594: 'rant',\n",
              " 595: 'much',\n",
              " 596: 'warning',\n",
              " 597: 'ambassador',\n",
              " 598: 'ny',\n",
              " 599: 'epa',\n",
              " 600: 'role',\n",
              " 601: 'seen',\n",
              " 602: 'without',\n",
              " 603: 'middle',\n",
              " 604: 'kellyanne',\n",
              " 605: 'launch',\n",
              " 606: 'global',\n",
              " 607: 'convention',\n",
              " 608: 'audio',\n",
              " 609: 'barack',\n",
              " 610: 'brilliant',\n",
              " 611: 'stunning',\n",
              " 612: 'thug',\n",
              " 613: 'announces',\n",
              " 614: 'hilariously',\n",
              " 615: 'star',\n",
              " 616: 'perfect',\n",
              " 617: 'expert',\n",
              " 618: 'agree',\n",
              " 619: 'love',\n",
              " 620: 'boy',\n",
              " 621: 'program',\n",
              " 622: 'spain',\n",
              " 623: 'mcconnell',\n",
              " 624: 'document',\n",
              " 625: 'place',\n",
              " 626: 'trial',\n",
              " 627: 'melania',\n",
              " 628: 'criminal',\n",
              " 629: 'weapon',\n",
              " 630: 'four',\n",
              " 631: 'planned',\n",
              " 632: 'drug',\n",
              " 633: 'lawsuit',\n",
              " 634: 'sh',\n",
              " 635: 'ukraine',\n",
              " 636: 'nancy',\n",
              " 637: 'cabinet',\n",
              " 638: 'pressure',\n",
              " 639: 'ben',\n",
              " 640: 'terrorism',\n",
              " 641: 'player',\n",
              " 642: 'sue',\n",
              " 643: 'hearing',\n",
              " 644: 'kurdish',\n",
              " 645: 'mueller',\n",
              " 646: 'union',\n",
              " 647: 'mock',\n",
              " 648: 'finally',\n",
              " 649: 'palin',\n",
              " 650: 'irma',\n",
              " 651: 'europe',\n",
              " 652: 'pentagon',\n",
              " 653: 'carolina',\n",
              " 654: 'embassy',\n",
              " 655: 'carson',\n",
              " 656: 'whoa',\n",
              " 657: 'gave',\n",
              " 658: 'erdogan',\n",
              " 659: 'letter',\n",
              " 660: 'least',\n",
              " 661: 'prison',\n",
              " 662: 'stay',\n",
              " 663: 'catalonia',\n",
              " 664: 'loses',\n",
              " 665: 'united',\n",
              " 666: 'sex',\n",
              " 667: 'guest',\n",
              " 668: 'gov',\n",
              " 669: 'crooked',\n",
              " 670: 'approves',\n",
              " 671: 'concern',\n",
              " 672: 'spending',\n",
              " 673: 'throw',\n",
              " 674: 'africa',\n",
              " 675: 'kelly',\n",
              " 676: 'protect',\n",
              " 677: 'us',\n",
              " 678: 'insane',\n",
              " 679: 'diplomat',\n",
              " 680: 'daughter',\n",
              " 681: 'remark',\n",
              " 682: 'nato',\n",
              " 683: 'yr',\n",
              " 684: 'economic',\n",
              " 685: 'spokesman',\n",
              " 686: 'wrong',\n",
              " 687: 'al',\n",
              " 688: 'system',\n",
              " 689: 'bathroom',\n",
              " 690: 'cyber',\n",
              " 691: 'forced',\n",
              " 692: 'israeli',\n",
              " 693: 'church',\n",
              " 694: 'allegation',\n",
              " 695: 'chris',\n",
              " 696: 'defend',\n",
              " 697: 'pass',\n",
              " 698: 'hacking',\n",
              " 699: 'denies',\n",
              " 700: 'private',\n",
              " 701: 'better',\n",
              " 702: 'university',\n",
              " 703: 'request',\n",
              " 704: 'event',\n",
              " 705: 'sheriff',\n",
              " 706: 'baby',\n",
              " 707: 'something',\n",
              " 708: 'illegals',\n",
              " 709: 'arabia',\n",
              " 710: 'egypt',\n",
              " 711: 'crazy',\n",
              " 712: 'rich',\n",
              " 713: 'stage',\n",
              " 714: 'fact',\n",
              " 715: 'sale',\n",
              " 716: 'getting',\n",
              " 717: 'council',\n",
              " 718: 'flint',\n",
              " 719: 'foundation',\n",
              " 720: 'chinese',\n",
              " 721: 'civil',\n",
              " 722: 'capital',\n",
              " 723: 'accuses',\n",
              " 724: 'dems',\n",
              " 725: 'spicer',\n",
              " 726: 'pledge',\n",
              " 727: 'deputy',\n",
              " 728: 'conference',\n",
              " 729: 'five',\n",
              " 730: 'mexican',\n",
              " 731: 'teen',\n",
              " 732: 'around',\n",
              " 733: 'brazil',\n",
              " 734: 'future',\n",
              " 735: 'spy',\n",
              " 736: 'michigan',\n",
              " 737: 'suspect',\n",
              " 738: 'economy',\n",
              " 739: 'racism',\n",
              " 740: 'soros',\n",
              " 741: 'christmas',\n",
              " 742: 'energy',\n",
              " 743: 'sunday',\n",
              " 744: 'visa',\n",
              " 745: 'game',\n",
              " 746: 'intel',\n",
              " 747: 'taking',\n",
              " 748: 'navy',\n",
              " 749: 'explains',\n",
              " 750: 'tucker',\n",
              " 751: 'charged',\n",
              " 752: 'leaf',\n",
              " 753: 'human',\n",
              " 754: 'far',\n",
              " 755: 'transition',\n",
              " 756: 'baltimore',\n",
              " 757: 'taiwan',\n",
              " 758: 'oops',\n",
              " 759: 'staff',\n",
              " 760: 'market',\n",
              " 761: 'summit',\n",
              " 762: 'elizabeth',\n",
              " 763: 'mark',\n",
              " 764: 'rebel',\n",
              " 765: 'save',\n",
              " 766: 'hell',\n",
              " 767: 'mother',\n",
              " 768: 'pakistan',\n",
              " 769: 'book',\n",
              " 770: 'tension',\n",
              " 771: 'dollar',\n",
              " 772: 'risk',\n",
              " 773: 'proof',\n",
              " 774: 'stupid',\n",
              " 775: 'rise',\n",
              " 776: 'picture',\n",
              " 777: 'hammer',\n",
              " 778: 'anchor',\n",
              " 779: 'aim',\n",
              " 780: 'confirms',\n",
              " 781: 'shoot',\n",
              " 782: 'labor',\n",
              " 783: 'vp',\n",
              " 784: 'romney',\n",
              " 785: 'term',\n",
              " 786: 'chairman',\n",
              " 787: 'moscow',\n",
              " 788: 'oregon',\n",
              " 789: 'kenya',\n",
              " 790: 'wo',\n",
              " 791: 'cost',\n",
              " 792: 'lose',\n",
              " 793: 'delay',\n",
              " 794: 'leak',\n",
              " 795: 'praise',\n",
              " 796: 'criticism',\n",
              " 797: 'dangerous',\n",
              " 798: 'afghan',\n",
              " 799: 'destroyed',\n",
              " 800: 'manager',\n",
              " 801: 'employee',\n",
              " 802: 'johnson',\n",
              " 803: 'palestinian',\n",
              " 804: 'problem',\n",
              " 805: 'many',\n",
              " 806: 'choice',\n",
              " 807: 'teacher',\n",
              " 808: 'class',\n",
              " 809: 'flashback',\n",
              " 810: 'welcome',\n",
              " 811: 'conspiracy',\n",
              " 812: 'body',\n",
              " 813: 'northern',\n",
              " 814: 'australia',\n",
              " 815: 'india',\n",
              " 816: 'result',\n",
              " 817: 'recount',\n",
              " 818: 'airport',\n",
              " 819: 'revealed',\n",
              " 820: 'michael',\n",
              " 821: 'percent',\n",
              " 822: 'nomination',\n",
              " 823: 'actor',\n",
              " 824: 'today',\n",
              " 825: 'beat',\n",
              " 826: 'flight',\n",
              " 827: 'abuse',\n",
              " 828: 'sentence',\n",
              " 829: 'mom',\n",
              " 830: 'early',\n",
              " 831: 'politics',\n",
              " 832: 'alabama',\n",
              " 833: 'powerful',\n",
              " 834: 'exposed',\n",
              " 835: 'james',\n",
              " 836: 'little',\n",
              " 837: 'absolutely',\n",
              " 838: 'missing',\n",
              " 839: 'accused',\n",
              " 840: 'become',\n",
              " 841: 'limit',\n",
              " 842: 'clear',\n",
              " 843: 'tried',\n",
              " 844: 'parent',\n",
              " 845: 'announcement',\n",
              " 846: 'father',\n",
              " 847: 'congressional',\n",
              " 848: 'firing',\n",
              " 849: 'speaks',\n",
              " 850: 'ria',\n",
              " 851: 'clash',\n",
              " 852: 'steve',\n",
              " 853: 'billionaire',\n",
              " 854: 'account',\n",
              " 855: 'might',\n",
              " 856: 'resign',\n",
              " 857: 'hurt',\n",
              " 858: 'carlson',\n",
              " 859: 'dad',\n",
              " 860: 'agenda',\n",
              " 861: 'hannity',\n",
              " 862: 'professor',\n",
              " 863: 'referendum',\n",
              " 864: 'advisor',\n",
              " 865: 'hariri',\n",
              " 866: 'socialist',\n",
              " 867: 'red',\n",
              " 868: 'pastor',\n",
              " 869: 'hour',\n",
              " 870: 'suspected',\n",
              " 871: 'antifa',\n",
              " 872: 'viral',\n",
              " 873: 'person',\n",
              " 874: 'confederate',\n",
              " 875: 'dc',\n",
              " 876: 'since',\n",
              " 877: 'food',\n",
              " 878: 'donor',\n",
              " 879: 'nothing',\n",
              " 880: 'mugabe',\n",
              " 881: 'le',\n",
              " 882: 'sick',\n",
              " 883: 'paid',\n",
              " 884: 'train',\n",
              " 885: 'responds',\n",
              " 886: 'community',\n",
              " 887: 'speak',\n",
              " 888: 'front',\n",
              " 889: 'mass',\n",
              " 890: 'lady',\n",
              " 891: 'worst',\n",
              " 892: 'burn',\n",
              " 893: 'freedom',\n",
              " 894: 'electoral',\n",
              " 895: 'proposal',\n",
              " 896: 'happened',\n",
              " 897: 'actually',\n",
              " 898: 'remove',\n",
              " 899: 'treasury',\n",
              " 900: 'nafta',\n",
              " 901: 'cancel',\n",
              " 902: 'detroit',\n",
              " 903: 'italy',\n",
              " 904: 'ireland',\n",
              " 905: 'moment',\n",
              " 906: 'worse',\n",
              " 907: 'literally',\n",
              " 908: 'corporate',\n",
              " 909: 'virginia',\n",
              " 910: 'lied',\n",
              " 911: 'megyn',\n",
              " 912: 'endorsement',\n",
              " 913: 'afghanistan',\n",
              " 914: 'begin',\n",
              " 915: 'send',\n",
              " 916: 'communist',\n",
              " 917: 'illinois',\n",
              " 918: 'potential',\n",
              " 919: 'vietnam',\n",
              " 920: 'mattis',\n",
              " 921: 'donation',\n",
              " 922: 'pas',\n",
              " 923: 'build',\n",
              " 924: 'furious',\n",
              " 925: 'meltdown',\n",
              " 926: 'thought',\n",
              " 927: 'chance',\n",
              " 928: 'maxine',\n",
              " 929: 'un',\n",
              " 930: 'crash',\n",
              " 931: 'tear',\n",
              " 932: 'financial',\n",
              " 933: 'rating',\n",
              " 934: 'idea',\n",
              " 935: 'already',\n",
              " 936: 'phone',\n",
              " 937: 'price',\n",
              " 938: 'everyone',\n",
              " 939: 'coming',\n",
              " 940: 'husband',\n",
              " 941: 'nbc',\n",
              " 942: 'christie',\n",
              " 943: 'sends',\n",
              " 944: 'elected',\n",
              " 945: 'scalia',\n",
              " 946: 'fighting',\n",
              " 947: 'raid',\n",
              " 948: 'update',\n",
              " 949: 'boost',\n",
              " 950: 'access',\n",
              " 951: 'highlight',\n",
              " 952: 'soon',\n",
              " 953: 'ask',\n",
              " 954: 'ca',\n",
              " 955: 'la',\n",
              " 956: 'hypocrite',\n",
              " 957: 'perfectly',\n",
              " 958: 'bannon',\n",
              " 959: 'disaster',\n",
              " 960: 'bring',\n",
              " 961: 'usa',\n",
              " 962: 'anthem',\n",
              " 963: 'camp',\n",
              " 964: 'supremacist',\n",
              " 965: 'joke',\n",
              " 966: 'iranian',\n",
              " 967: 'vet',\n",
              " 968: 'dirty',\n",
              " 969: 'dispute',\n",
              " 970: 'finance',\n",
              " 971: 'riot',\n",
              " 972: 'rnc',\n",
              " 973: 'troll',\n",
              " 974: 'minute',\n",
              " 975: 'kurd',\n",
              " 976: 'anyone',\n",
              " 977: 'telling',\n",
              " 978: 'rep',\n",
              " 979: 'nazi',\n",
              " 980: 'amendment',\n",
              " 981: 'voted',\n",
              " 982: 'african',\n",
              " 983: 'sanctuary',\n",
              " 984: 'tough',\n",
              " 985: 'allow',\n",
              " 986: 'feel',\n",
              " 987: 'concerned',\n",
              " 988: 'sea',\n",
              " 989: 'fall',\n",
              " 990: 'avoid',\n",
              " 991: 'graft',\n",
              " 992: 'low',\n",
              " 993: 'side',\n",
              " 994: 'prove',\n",
              " 995: 'address',\n",
              " 996: 'god',\n",
              " 997: 'parenthood',\n",
              " 998: 'guilty',\n",
              " 999: 'testify',\n",
              " 1000: 'committed',\n",
              " ...}"
            ]
          },
          "metadata": {},
          "execution_count": 36
        }
      ]
    },
    {
      "cell_type": "code",
      "source": [
        "vocab_len = len(tok.index_word)\n",
        "vocab_len"
      ],
      "metadata": {
        "colab": {
          "base_uri": "https://localhost:8080/"
        },
        "id": "27ofSnNFqGfZ",
        "outputId": "fd8714d3-4be0-4ce3-abdf-5a5969b3289c"
      },
      "execution_count": 37,
      "outputs": [
        {
          "output_type": "execute_result",
          "data": {
            "text/plain": [
              "15485"
            ]
          },
          "metadata": {},
          "execution_count": 37
        }
      ]
    },
    {
      "cell_type": "code",
      "source": [
        "seqtrain = tok.texts_to_sequences(xtrain)\n",
        "seqmattrain = sequence.pad_sequences(seqtrain,maxlen=int(max_len))\n",
        "seqmattrain"
      ],
      "metadata": {
        "colab": {
          "base_uri": "https://localhost:8080/"
        },
        "id": "FtuGW6cKqKJA",
        "outputId": "20696b7f-0c5b-46d2-fa5e-978d1bc8209c"
      },
      "execution_count": 38,
      "outputs": [
        {
          "output_type": "execute_result",
          "data": {
            "text/plain": [
              "array([[   0,    0,    0, ...,  320, 4905,  227],\n",
              "       [   0,    0,    0, ..., 6005,   17,  291],\n",
              "       [   0,    0,    0, ..., 1297, 6006,  533],\n",
              "       ...,\n",
              "       [   0,    0,    0, ...,   54,  738,  959],\n",
              "       [   0,   87, 1007, ...,  373,   12, 2069],\n",
              "       [   0,    0,    0, ...,  354,  503,   14]], dtype=int32)"
            ]
          },
          "metadata": {},
          "execution_count": 38
        }
      ]
    },
    {
      "cell_type": "code",
      "source": [
        "seqtest = tok.texts_to_sequences(xtest)\n",
        "seqmattest = sequence.pad_sequences(seqtest,maxlen=int(max_len))\n",
        "seqmattest"
      ],
      "metadata": {
        "colab": {
          "base_uri": "https://localhost:8080/"
        },
        "id": "dvGbNbR0qOjp",
        "outputId": "036f6028-c7fb-4aeb-8f5c-b049fc1f34fd"
      },
      "execution_count": 39,
      "outputs": [
        {
          "output_type": "execute_result",
          "data": {
            "text/plain": [
              "array([[   0,    0,    0, ...,  691,  482,   13],\n",
              "       [   0,    0,    0, ...,   47,    5,   10],\n",
              "       [   0,    0,    0, ..., 1379, 7440,    2],\n",
              "       ...,\n",
              "       [   0, 8050,   65, ..., 1898,   20, 2063],\n",
              "       [  37,  978, 6557, ...,  348, 6720,  159],\n",
              "       [   0,    0,    0, ...,  672,    3,  323]], dtype=int32)"
            ]
          },
          "metadata": {},
          "execution_count": 39
        }
      ]
    },
    {
      "cell_type": "markdown",
      "source": [
        "#Model 3:- SimpleRNN"
      ],
      "metadata": {
        "id": "Dq2dDkDa6XlH"
      }
    },
    {
      "cell_type": "code",
      "source": [
        "# Building The 'SimpleRNN'\n",
        "rnn = Sequential()\n",
        "rnn.add(Embedding(vocab_len+1,300,input_length=int(max_len),mask_zero=True))\n",
        "rnn.add(SimpleRNN(units=30,activation='tanh'))\n",
        "rnn.add(Dense(units=30,activation='relu'))\n",
        "rnn.add(Dropout(rate=0.30))\n",
        "rnn.add(Dense(units=1,activation='sigmoid'))\n",
        "rnn.compile(optimizer='adam',loss='binary_crossentropy')\n",
        "rnn.fit(seqmattrain,ytrain,batch_size=50,epochs=25)"
      ],
      "metadata": {
        "colab": {
          "base_uri": "https://localhost:8080/"
        },
        "id": "B2bSvilGqQBc",
        "outputId": "038d2bff-dd65-4787-f4d1-21376da2f85d"
      },
      "execution_count": 40,
      "outputs": [
        {
          "output_type": "stream",
          "name": "stdout",
          "text": [
            "Epoch 1/25\n",
            "629/629 [==============================] - 60s 91ms/step - loss: 0.1842\n",
            "Epoch 2/25\n",
            "629/629 [==============================] - 64s 102ms/step - loss: 0.0495\n",
            "Epoch 3/25\n",
            "629/629 [==============================] - 50s 80ms/step - loss: 0.0165\n",
            "Epoch 4/25\n",
            "629/629 [==============================] - 45s 72ms/step - loss: 0.0089\n",
            "Epoch 5/25\n",
            "629/629 [==============================] - 44s 71ms/step - loss: 0.0078\n",
            "Epoch 6/25\n",
            "629/629 [==============================] - 45s 72ms/step - loss: 0.0080\n",
            "Epoch 7/25\n",
            "629/629 [==============================] - 46s 73ms/step - loss: 0.0050\n",
            "Epoch 8/25\n",
            "629/629 [==============================] - 44s 70ms/step - loss: 0.0045\n",
            "Epoch 9/25\n",
            "629/629 [==============================] - 42s 67ms/step - loss: 0.0036\n",
            "Epoch 10/25\n",
            "629/629 [==============================] - 43s 69ms/step - loss: 0.0028\n",
            "Epoch 11/25\n",
            "629/629 [==============================] - 43s 69ms/step - loss: 0.0027\n",
            "Epoch 12/25\n",
            "629/629 [==============================] - 43s 68ms/step - loss: 0.0045\n",
            "Epoch 13/25\n",
            "629/629 [==============================] - 45s 72ms/step - loss: 0.0021\n",
            "Epoch 14/25\n",
            "629/629 [==============================] - 46s 73ms/step - loss: 0.0030\n",
            "Epoch 15/25\n",
            "629/629 [==============================] - 46s 73ms/step - loss: 0.0032\n",
            "Epoch 16/25\n",
            "629/629 [==============================] - 45s 72ms/step - loss: 0.0022\n",
            "Epoch 17/25\n",
            "629/629 [==============================] - 46s 73ms/step - loss: 0.0012\n",
            "Epoch 18/25\n",
            "629/629 [==============================] - 45s 72ms/step - loss: 0.0023\n",
            "Epoch 19/25\n",
            "629/629 [==============================] - 45s 72ms/step - loss: 0.0014\n",
            "Epoch 20/25\n",
            "629/629 [==============================] - 46s 73ms/step - loss: 1.6736e-04\n",
            "Epoch 21/25\n",
            "629/629 [==============================] - 45s 72ms/step - loss: 3.7528e-04\n",
            "Epoch 22/25\n",
            "629/629 [==============================] - 46s 73ms/step - loss: 0.0029\n",
            "Epoch 23/25\n",
            "629/629 [==============================] - 45s 71ms/step - loss: 0.0023\n",
            "Epoch 24/25\n",
            "629/629 [==============================] - 46s 72ms/step - loss: 0.0012\n",
            "Epoch 25/25\n",
            "629/629 [==============================] - 45s 72ms/step - loss: 7.2972e-04\n"
          ]
        },
        {
          "output_type": "execute_result",
          "data": {
            "text/plain": [
              "<keras.callbacks.History at 0x7f23360103a0>"
            ]
          },
          "metadata": {},
          "execution_count": 40
        }
      ]
    },
    {
      "cell_type": "markdown",
      "source": [
        "#Evaluation"
      ],
      "metadata": {
        "id": "Qvu147Czh516"
      }
    },
    {
      "cell_type": "markdown",
      "source": [
        "Let's evaluate the performance of the SimpleRNN on the test set and generate a classification report."
      ],
      "metadata": {
        "id": "iX8t0OfRh_bp"
      }
    },
    {
      "cell_type": "code",
      "source": [
        "ypred = rnn.predict(seqmattest)\n",
        "ypred = ypred>0.5"
      ],
      "metadata": {
        "colab": {
          "base_uri": "https://localhost:8080/"
        },
        "id": "qewIZ-Y9qUb2",
        "outputId": "3602516a-4b69-4a7f-b651-78765a50f31f"
      },
      "execution_count": 41,
      "outputs": [
        {
          "output_type": "stream",
          "name": "stdout",
          "text": [
            "421/421 [==============================] - 2s 3ms/step\n"
          ]
        }
      ]
    },
    {
      "cell_type": "code",
      "source": [
        "from sklearn.metrics import classification_report\n",
        "print(classification_report(ytest,ypred))"
      ],
      "metadata": {
        "colab": {
          "base_uri": "https://localhost:8080/"
        },
        "id": "xVT2MuhiqyPX",
        "outputId": "4f14ab6a-036e-4cd2-e452-a67218beafbd"
      },
      "execution_count": 42,
      "outputs": [
        {
          "output_type": "stream",
          "name": "stdout",
          "text": [
            "              precision    recall  f1-score   support\n",
            "\n",
            "           0       0.95      0.95      0.95      7053\n",
            "           1       0.94      0.95      0.95      6417\n",
            "\n",
            "    accuracy                           0.95     13470\n",
            "   macro avg       0.95      0.95      0.95     13470\n",
            "weighted avg       0.95      0.95      0.95     13470\n",
            "\n"
          ]
        }
      ]
    },
    {
      "cell_type": "markdown",
      "source": [
        "#Model 4:- LSTM"
      ],
      "metadata": {
        "id": "UoYtXbZM6eTG"
      }
    },
    {
      "cell_type": "code",
      "source": [
        "# Building The 'LSTM'\n",
        "rnn = Sequential()\n",
        "rnn.add(Embedding(vocab_len+1,300,input_length=int(max_len),mask_zero=True))\n",
        "rnn.add(LSTM(units=30,activation='tanh'))\n",
        "rnn.add(Dense(units=30,activation='relu'))\n",
        "rnn.add(Dropout(rate=0.30))\n",
        "rnn.add(Dense(units=1,activation='sigmoid'))\n",
        "rnn.compile(optimizer='adam',loss='binary_crossentropy')\n",
        "rnn.fit(seqmattrain,ytrain,batch_size=50,epochs=25)"
      ],
      "metadata": {
        "colab": {
          "base_uri": "https://localhost:8080/"
        },
        "id": "k4HZQA1JrEIk",
        "outputId": "55a0269b-371d-4817-c8a9-1589c5d2f4ea"
      },
      "execution_count": 43,
      "outputs": [
        {
          "output_type": "stream",
          "name": "stdout",
          "text": [
            "Epoch 1/25\n",
            "629/629 [==============================] - 66s 97ms/step - loss: 0.1878\n",
            "Epoch 2/25\n",
            "629/629 [==============================] - 60s 96ms/step - loss: 0.0630\n",
            "Epoch 3/25\n",
            "629/629 [==============================] - 60s 96ms/step - loss: 0.0302\n",
            "Epoch 4/25\n",
            "629/629 [==============================] - 64s 102ms/step - loss: 0.0175\n",
            "Epoch 5/25\n",
            "629/629 [==============================] - 64s 101ms/step - loss: 0.0103\n",
            "Epoch 6/25\n",
            "629/629 [==============================] - 60s 95ms/step - loss: 0.0106\n",
            "Epoch 7/25\n",
            "629/629 [==============================] - 59s 93ms/step - loss: 0.0053\n",
            "Epoch 8/25\n",
            "629/629 [==============================] - 59s 93ms/step - loss: 0.0040\n",
            "Epoch 9/25\n",
            "629/629 [==============================] - 60s 95ms/step - loss: 0.0049\n",
            "Epoch 10/25\n",
            "629/629 [==============================] - 60s 95ms/step - loss: 0.0029\n",
            "Epoch 11/25\n",
            "629/629 [==============================] - 60s 95ms/step - loss: 0.0011\n",
            "Epoch 12/25\n",
            "629/629 [==============================] - 60s 96ms/step - loss: 0.0016\n",
            "Epoch 13/25\n",
            "629/629 [==============================] - 61s 97ms/step - loss: 0.0017\n",
            "Epoch 14/25\n",
            "629/629 [==============================] - 60s 96ms/step - loss: 0.0035\n",
            "Epoch 15/25\n",
            "629/629 [==============================] - 61s 97ms/step - loss: 0.0032\n",
            "Epoch 16/25\n",
            "629/629 [==============================] - 63s 99ms/step - loss: 0.0011\n",
            "Epoch 17/25\n",
            "629/629 [==============================] - 63s 100ms/step - loss: 2.8537e-04\n",
            "Epoch 18/25\n",
            "629/629 [==============================] - 62s 99ms/step - loss: 3.8974e-05\n",
            "Epoch 19/25\n",
            "629/629 [==============================] - 61s 98ms/step - loss: 2.2086e-05\n",
            "Epoch 20/25\n",
            "629/629 [==============================] - 61s 98ms/step - loss: 1.7384e-05\n",
            "Epoch 21/25\n",
            "629/629 [==============================] - 61s 97ms/step - loss: 7.2754e-06\n",
            "Epoch 22/25\n",
            "629/629 [==============================] - 61s 96ms/step - loss: 5.5152e-06\n",
            "Epoch 23/25\n",
            "629/629 [==============================] - 60s 95ms/step - loss: 5.2954e-06\n",
            "Epoch 24/25\n",
            "629/629 [==============================] - 60s 96ms/step - loss: 3.4516e-06\n",
            "Epoch 25/25\n",
            "629/629 [==============================] - 60s 96ms/step - loss: 3.2252e-06\n"
          ]
        },
        {
          "output_type": "execute_result",
          "data": {
            "text/plain": [
              "<keras.callbacks.History at 0x7f23342cc520>"
            ]
          },
          "metadata": {},
          "execution_count": 43
        }
      ]
    },
    {
      "cell_type": "markdown",
      "source": [
        "#Evaluation"
      ],
      "metadata": {
        "id": "H2CZe3qGiIGX"
      }
    },
    {
      "cell_type": "markdown",
      "source": [
        "Let's evaluate the performance of the LSTM on the test set and generate a classification report."
      ],
      "metadata": {
        "id": "r531Jfg9iIQu"
      }
    },
    {
      "cell_type": "code",
      "source": [
        "ypred = rnn.predict(seqmattest)\n",
        "ypred = ypred>0.5"
      ],
      "metadata": {
        "colab": {
          "base_uri": "https://localhost:8080/"
        },
        "id": "lMkKipMjwsLd",
        "outputId": "06e57702-da44-4b65-b826-dcfc518810a1"
      },
      "execution_count": 44,
      "outputs": [
        {
          "output_type": "stream",
          "name": "stdout",
          "text": [
            "421/421 [==============================] - 3s 5ms/step\n"
          ]
        }
      ]
    },
    {
      "cell_type": "code",
      "source": [
        "from sklearn.metrics import classification_report\n",
        "print(classification_report(ytest,ypred))"
      ],
      "metadata": {
        "colab": {
          "base_uri": "https://localhost:8080/"
        },
        "id": "USsvFmk80yJ7",
        "outputId": "8cb06121-edf6-4236-8b44-b05662d4f162"
      },
      "execution_count": 45,
      "outputs": [
        {
          "output_type": "stream",
          "name": "stdout",
          "text": [
            "              precision    recall  f1-score   support\n",
            "\n",
            "           0       0.95      0.96      0.95      7053\n",
            "           1       0.95      0.95      0.95      6417\n",
            "\n",
            "    accuracy                           0.95     13470\n",
            "   macro avg       0.95      0.95      0.95     13470\n",
            "weighted avg       0.95      0.95      0.95     13470\n",
            "\n"
          ]
        }
      ]
    },
    {
      "cell_type": "code",
      "source": [
        "df.head()"
      ],
      "metadata": {
        "colab": {
          "base_uri": "https://localhost:8080/",
          "height": 336
        },
        "id": "GSEfZUhU4Sk5",
        "outputId": "4bfdc6a3-abae-4be7-d745-8bf5434583ed"
      },
      "execution_count": 46,
      "outputs": [
        {
          "output_type": "execute_result",
          "data": {
            "text/plain": [
              "                                               title  \\\n",
              "0   Donald Trump Sends Out Embarrassing New Year’...   \n",
              "1   Drunk Bragging Trump Staffer Started Russian ...   \n",
              "2   Sheriff David Clarke Becomes An Internet Joke...   \n",
              "3   Trump Is So Obsessed He Even Has Obama’s Name...   \n",
              "4   Pope Francis Just Called Out Donald Trump Dur...   \n",
              "\n",
              "                                                text  label  \\\n",
              "0  Donald Trump just couldn t wish all Americans ...      0   \n",
              "1  House Intelligence Committee Chairman Devin Nu...      0   \n",
              "2  On Friday, it was revealed that former Milwauk...      0   \n",
              "3  On Christmas day, Donald Trump announced that ...      0   \n",
              "4  Pope Francis used his annual Christmas Day mes...      0   \n",
              "\n",
              "                                           clean_msg  Sentlen  \n",
              "0  donald trump sends embarrassing new year eve m...        9  \n",
              "1  drunk bragging trump staffer started russian c...        8  \n",
              "2  sheriff david clarke becomes internet joke thr...       10  \n",
              "3  trump obsessed even obama name coded website i...        8  \n",
              "4  pope francis called donald trump christmas speech        7  "
            ],
            "text/html": [
              "\n",
              "  <div id=\"df-5cc29b74-a753-43ac-b0d8-f366c3c4d19b\">\n",
              "    <div class=\"colab-df-container\">\n",
              "      <div>\n",
              "<style scoped>\n",
              "    .dataframe tbody tr th:only-of-type {\n",
              "        vertical-align: middle;\n",
              "    }\n",
              "\n",
              "    .dataframe tbody tr th {\n",
              "        vertical-align: top;\n",
              "    }\n",
              "\n",
              "    .dataframe thead th {\n",
              "        text-align: right;\n",
              "    }\n",
              "</style>\n",
              "<table border=\"1\" class=\"dataframe\">\n",
              "  <thead>\n",
              "    <tr style=\"text-align: right;\">\n",
              "      <th></th>\n",
              "      <th>title</th>\n",
              "      <th>text</th>\n",
              "      <th>label</th>\n",
              "      <th>clean_msg</th>\n",
              "      <th>Sentlen</th>\n",
              "    </tr>\n",
              "  </thead>\n",
              "  <tbody>\n",
              "    <tr>\n",
              "      <th>0</th>\n",
              "      <td>Donald Trump Sends Out Embarrassing New Year’...</td>\n",
              "      <td>Donald Trump just couldn t wish all Americans ...</td>\n",
              "      <td>0</td>\n",
              "      <td>donald trump sends embarrassing new year eve m...</td>\n",
              "      <td>9</td>\n",
              "    </tr>\n",
              "    <tr>\n",
              "      <th>1</th>\n",
              "      <td>Drunk Bragging Trump Staffer Started Russian ...</td>\n",
              "      <td>House Intelligence Committee Chairman Devin Nu...</td>\n",
              "      <td>0</td>\n",
              "      <td>drunk bragging trump staffer started russian c...</td>\n",
              "      <td>8</td>\n",
              "    </tr>\n",
              "    <tr>\n",
              "      <th>2</th>\n",
              "      <td>Sheriff David Clarke Becomes An Internet Joke...</td>\n",
              "      <td>On Friday, it was revealed that former Milwauk...</td>\n",
              "      <td>0</td>\n",
              "      <td>sheriff david clarke becomes internet joke thr...</td>\n",
              "      <td>10</td>\n",
              "    </tr>\n",
              "    <tr>\n",
              "      <th>3</th>\n",
              "      <td>Trump Is So Obsessed He Even Has Obama’s Name...</td>\n",
              "      <td>On Christmas day, Donald Trump announced that ...</td>\n",
              "      <td>0</td>\n",
              "      <td>trump obsessed even obama name coded website i...</td>\n",
              "      <td>8</td>\n",
              "    </tr>\n",
              "    <tr>\n",
              "      <th>4</th>\n",
              "      <td>Pope Francis Just Called Out Donald Trump Dur...</td>\n",
              "      <td>Pope Francis used his annual Christmas Day mes...</td>\n",
              "      <td>0</td>\n",
              "      <td>pope francis called donald trump christmas speech</td>\n",
              "      <td>7</td>\n",
              "    </tr>\n",
              "  </tbody>\n",
              "</table>\n",
              "</div>\n",
              "      <button class=\"colab-df-convert\" onclick=\"convertToInteractive('df-5cc29b74-a753-43ac-b0d8-f366c3c4d19b')\"\n",
              "              title=\"Convert this dataframe to an interactive table.\"\n",
              "              style=\"display:none;\">\n",
              "        \n",
              "  <svg xmlns=\"http://www.w3.org/2000/svg\" height=\"24px\"viewBox=\"0 0 24 24\"\n",
              "       width=\"24px\">\n",
              "    <path d=\"M0 0h24v24H0V0z\" fill=\"none\"/>\n",
              "    <path d=\"M18.56 5.44l.94 2.06.94-2.06 2.06-.94-2.06-.94-.94-2.06-.94 2.06-2.06.94zm-11 1L8.5 8.5l.94-2.06 2.06-.94-2.06-.94L8.5 2.5l-.94 2.06-2.06.94zm10 10l.94 2.06.94-2.06 2.06-.94-2.06-.94-.94-2.06-.94 2.06-2.06.94z\"/><path d=\"M17.41 7.96l-1.37-1.37c-.4-.4-.92-.59-1.43-.59-.52 0-1.04.2-1.43.59L10.3 9.45l-7.72 7.72c-.78.78-.78 2.05 0 2.83L4 21.41c.39.39.9.59 1.41.59.51 0 1.02-.2 1.41-.59l7.78-7.78 2.81-2.81c.8-.78.8-2.07 0-2.86zM5.41 20L4 18.59l7.72-7.72 1.47 1.35L5.41 20z\"/>\n",
              "  </svg>\n",
              "      </button>\n",
              "      \n",
              "  <style>\n",
              "    .colab-df-container {\n",
              "      display:flex;\n",
              "      flex-wrap:wrap;\n",
              "      gap: 12px;\n",
              "    }\n",
              "\n",
              "    .colab-df-convert {\n",
              "      background-color: #E8F0FE;\n",
              "      border: none;\n",
              "      border-radius: 50%;\n",
              "      cursor: pointer;\n",
              "      display: none;\n",
              "      fill: #1967D2;\n",
              "      height: 32px;\n",
              "      padding: 0 0 0 0;\n",
              "      width: 32px;\n",
              "    }\n",
              "\n",
              "    .colab-df-convert:hover {\n",
              "      background-color: #E2EBFA;\n",
              "      box-shadow: 0px 1px 2px rgba(60, 64, 67, 0.3), 0px 1px 3px 1px rgba(60, 64, 67, 0.15);\n",
              "      fill: #174EA6;\n",
              "    }\n",
              "\n",
              "    [theme=dark] .colab-df-convert {\n",
              "      background-color: #3B4455;\n",
              "      fill: #D2E3FC;\n",
              "    }\n",
              "\n",
              "    [theme=dark] .colab-df-convert:hover {\n",
              "      background-color: #434B5C;\n",
              "      box-shadow: 0px 1px 3px 1px rgba(0, 0, 0, 0.15);\n",
              "      filter: drop-shadow(0px 1px 2px rgba(0, 0, 0, 0.3));\n",
              "      fill: #FFFFFF;\n",
              "    }\n",
              "  </style>\n",
              "\n",
              "      <script>\n",
              "        const buttonEl =\n",
              "          document.querySelector('#df-5cc29b74-a753-43ac-b0d8-f366c3c4d19b button.colab-df-convert');\n",
              "        buttonEl.style.display =\n",
              "          google.colab.kernel.accessAllowed ? 'block' : 'none';\n",
              "\n",
              "        async function convertToInteractive(key) {\n",
              "          const element = document.querySelector('#df-5cc29b74-a753-43ac-b0d8-f366c3c4d19b');\n",
              "          const dataTable =\n",
              "            await google.colab.kernel.invokeFunction('convertToInteractive',\n",
              "                                                     [key], {});\n",
              "          if (!dataTable) return;\n",
              "\n",
              "          const docLinkHtml = 'Like what you see? Visit the ' +\n",
              "            '<a target=\"_blank\" href=https://colab.research.google.com/notebooks/data_table.ipynb>data table notebook</a>'\n",
              "            + ' to learn more about interactive tables.';\n",
              "          element.innerHTML = '';\n",
              "          dataTable['output_type'] = 'display_data';\n",
              "          await google.colab.output.renderOutput(dataTable, element);\n",
              "          const docLink = document.createElement('div');\n",
              "          docLink.innerHTML = docLinkHtml;\n",
              "          element.appendChild(docLink);\n",
              "        }\n",
              "      </script>\n",
              "    </div>\n",
              "  </div>\n",
              "  "
            ]
          },
          "metadata": {},
          "execution_count": 46
        }
      ]
    },
    {
      "cell_type": "code",
      "source": [
        "x = df['clean_msg']\n",
        "y = df['label']"
      ],
      "metadata": {
        "id": "WAqFdMLZ4Svv"
      },
      "execution_count": 47,
      "outputs": []
    },
    {
      "cell_type": "code",
      "source": [
        "from sklearn.model_selection import train_test_split\n",
        "xtrain,xtest,ytrain,ytest=train_test_split(x,y,test_size=0.30,random_state=1)"
      ],
      "metadata": {
        "id": "adUqFtR844gP"
      },
      "execution_count": 49,
      "outputs": []
    },
    {
      "cell_type": "code",
      "source": [
        "from sklearn.feature_extraction.text import CountVectorizer\n",
        "cvec = CountVectorizer(min_df=0.02)\n",
        "xtrain = cvec.fit_transform(xtrain).toarray()\n",
        "xtest = cvec.transform(xtest).toarray()"
      ],
      "metadata": {
        "id": "KE8-gzZF4W0Z"
      },
      "execution_count": 50,
      "outputs": []
    },
    {
      "cell_type": "markdown",
      "source": [
        "#Model 5:- Naive Bayes"
      ],
      "metadata": {
        "id": "i2_3x_Ck6rSa"
      }
    },
    {
      "cell_type": "code",
      "source": [
        "# Building The 'Navie Bayes'\n",
        "from sklearn.naive_bayes import GaussianNB,MultinomialNB,BernoulliNB\n",
        "\n",
        "def mymodel(model):\n",
        "  model.fit(xtrain,ytrain)\n",
        "  ypred = model.predict(xtest)\n",
        "\n",
        "  print(classification_report(ytest,ypred))"
      ],
      "metadata": {
        "id": "cLWxRXcM3OGu"
      },
      "execution_count": 51,
      "outputs": []
    },
    {
      "cell_type": "markdown",
      "source": [
        "#Evaluation"
      ],
      "metadata": {
        "id": "adK9RCLtiVxe"
      }
    },
    {
      "cell_type": "code",
      "source": [
        "gnb = GaussianNB()\n",
        "\n",
        "mymodel(gnb)"
      ],
      "metadata": {
        "colab": {
          "base_uri": "https://localhost:8080/"
        },
        "id": "w-vHDlfQ32pL",
        "outputId": "6b8adc2f-70f2-4e3a-f970-933644ed6a04"
      },
      "execution_count": 52,
      "outputs": [
        {
          "output_type": "stream",
          "name": "stdout",
          "text": [
            "              precision    recall  f1-score   support\n",
            "\n",
            "           0       0.91      0.60      0.73      7053\n",
            "           1       0.68      0.94      0.79      6417\n",
            "\n",
            "    accuracy                           0.76     13470\n",
            "   macro avg       0.80      0.77      0.76     13470\n",
            "weighted avg       0.80      0.76      0.76     13470\n",
            "\n"
          ]
        }
      ]
    },
    {
      "cell_type": "code",
      "source": [
        "mnb = MultinomialNB()\n",
        "mymodel(mnb)"
      ],
      "metadata": {
        "colab": {
          "base_uri": "https://localhost:8080/"
        },
        "id": "EXvzjAMb34nS",
        "outputId": "f202419e-6005-4e25-bb2f-0620fae18bfa"
      },
      "execution_count": 53,
      "outputs": [
        {
          "output_type": "stream",
          "name": "stdout",
          "text": [
            "              precision    recall  f1-score   support\n",
            "\n",
            "           0       0.64      0.88      0.74      7053\n",
            "           1       0.78      0.46      0.58      6417\n",
            "\n",
            "    accuracy                           0.68     13470\n",
            "   macro avg       0.71      0.67      0.66     13470\n",
            "weighted avg       0.71      0.68      0.67     13470\n",
            "\n"
          ]
        }
      ]
    },
    {
      "cell_type": "code",
      "source": [
        "bnb = BernoulliNB()\n",
        "mymodel(bnb)"
      ],
      "metadata": {
        "colab": {
          "base_uri": "https://localhost:8080/"
        },
        "id": "pYX4Oze94MmB",
        "outputId": "0224dd9a-29bd-4ea0-d789-a926f7d9cec4"
      },
      "execution_count": 54,
      "outputs": [
        {
          "output_type": "stream",
          "name": "stdout",
          "text": [
            "              precision    recall  f1-score   support\n",
            "\n",
            "           0       0.91      0.60      0.73      7053\n",
            "           1       0.68      0.94      0.79      6417\n",
            "\n",
            "    accuracy                           0.76     13470\n",
            "   macro avg       0.80      0.77      0.76     13470\n",
            "weighted avg       0.80      0.76      0.76     13470\n",
            "\n"
          ]
        }
      ]
    },
    {
      "cell_type": "markdown",
      "source": [
        "#Conclusion"
      ],
      "metadata": {
        "id": "TE2Q5t0kmvZW"
      }
    },
    {
      "cell_type": "markdown",
      "source": [
        "- Accuracy achieved using ANN Model : 77%\n",
        "- Accuracy achieved using LogisticRegression Model : 77%\n",
        "- Accuracy achieved using SimpleRNN Model : 95%\n",
        "- Accuracy achieved using LSTM Model : 95%\n",
        "- Accuracy achieved using GaussianNB Model : 76%\n",
        "- Accuracy achieved using MultinomialNB Model : 68%\n",
        "- Accuracy achieved using BernoullibNB Model : 76%"
      ],
      "metadata": {
        "id": "Q44jL13Qm0Q1"
      }
    }
  ]
}